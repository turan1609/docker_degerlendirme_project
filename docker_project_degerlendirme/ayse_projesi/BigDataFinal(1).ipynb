{
 "cells": [
  {
   "cell_type": "markdown",
   "id": "0d2f7544-8e24-40b1-a685-135216225471",
   "metadata": {
    "tags": []
   },
   "source": [
    "# 201805071 BATUHAN EMRE YEŞİLYAYLA\n",
    "# 201805050 BERK OĞUZ\n",
    "# BİG DATA FİNAL PROJESİ"
   ]
  },
  {
   "cell_type": "code",
   "execution_count": 1,
   "id": "6c2e28e9-383b-44e9-aca7-64e50514623c",
   "metadata": {
    "tags": []
   },
   "outputs": [
    {
     "name": "stdout",
     "output_type": "stream",
     "text": [
      "Requirement already satisfied: findspark in /usr/local/lib/python3.9/site-packages (2.0.1)\n",
      "\u001b[33mWARNING: Running pip as the 'root' user can result in broken permissions and conflicting behaviour with the system package manager. It is recommended to use a virtual environment instead: https://pip.pypa.io/warnings/venv\u001b[0m\u001b[33m\n",
      "\u001b[0m\n",
      "\u001b[1m[\u001b[0m\u001b[34;49mnotice\u001b[0m\u001b[1;39;49m]\u001b[0m\u001b[39;49m A new release of pip is available: \u001b[0m\u001b[31;49m23.0.1\u001b[0m\u001b[39;49m -> \u001b[0m\u001b[32;49m25.1.1\u001b[0m\n",
      "\u001b[1m[\u001b[0m\u001b[34;49mnotice\u001b[0m\u001b[1;39;49m]\u001b[0m\u001b[39;49m To update, run: \u001b[0m\u001b[32;49mpip install --upgrade pip\u001b[0m\n",
      "Requirement already satisfied: psutil in /usr/local/lib/python3.9/site-packages (7.0.0)\n",
      "\u001b[33mWARNING: Running pip as the 'root' user can result in broken permissions and conflicting behaviour with the system package manager. It is recommended to use a virtual environment instead: https://pip.pypa.io/warnings/venv\u001b[0m\u001b[33m\n",
      "\u001b[0m\n",
      "\u001b[1m[\u001b[0m\u001b[34;49mnotice\u001b[0m\u001b[1;39;49m]\u001b[0m\u001b[39;49m A new release of pip is available: \u001b[0m\u001b[31;49m23.0.1\u001b[0m\u001b[39;49m -> \u001b[0m\u001b[32;49m25.1.1\u001b[0m\n",
      "\u001b[1m[\u001b[0m\u001b[34;49mnotice\u001b[0m\u001b[1;39;49m]\u001b[0m\u001b[39;49m To update, run: \u001b[0m\u001b[32;49mpip install --upgrade pip\u001b[0m\n",
      "Hostname:  cc8e4878de29\n",
      "IP Address:  172.23.0.2\n",
      "Computer Name:  cc8e4878de29\n",
      "System Info: \n",
      "  System: Linux\n",
      "  Node Name: cc8e4878de29\n",
      "  Release: 6.8.0-60-generic\n",
      "  Version: #63~22.04.1-Ubuntu SMP PREEMPT_DYNAMIC Tue Apr 22 19:00:15 UTC 2\n",
      "  Machine: x86_64\n",
      "  Processor: \n",
      "CPU Info:  \n"
     ]
    }
   ],
   "source": [
    "!pip install findspark\n",
    "!pip install psutil\n",
    "\n",
    "import platform\n",
    "import socket\n",
    "\n",
    "hostname = socket.gethostname()\n",
    "ip_address = socket.gethostbyname(hostname)\n",
    "computer_name = platform.node()\n",
    "system_info = platform.uname()\n",
    "cpu_info = platform.processor()\n",
    "\n",
    "print(\"Hostname: \", hostname)\n",
    "print(\"IP Address: \", ip_address)\n",
    "print(\"Computer Name: \", computer_name)\n",
    "print(\"System Info: \")\n",
    "print(f\"  System: {system_info.system}\")\n",
    "print(f\"  Node Name: {system_info.node}\")\n",
    "print(f\"  Release: {system_info.release}\")\n",
    "print(f\"  Version: {system_info.version}\")\n",
    "print(f\"  Machine: {system_info.machine}\")\n",
    "print(f\"  Processor: {system_info.processor}\")\n",
    "print(\"CPU Info: \", cpu_info)\n"
   ]
  },
  {
   "cell_type": "code",
   "execution_count": 2,
   "id": "d1a5f846-892e-4128-9451-ffc12e333623",
   "metadata": {
    "tags": []
   },
   "outputs": [],
   "source": [
    "import findspark\n",
    "findspark.init()\n",
    "import pyspark \n",
    "\n",
    "from pyspark import SparkContext\n",
    "import pyspark\n",
    "from pyspark.sql import SparkSession\n",
    "from pyspark.conf import SparkConf"
   ]
  },
  {
   "cell_type": "code",
   "execution_count": 3,
   "id": "fb36ee93-7915-45d1-8082-ff00a89e1414",
   "metadata": {
    "tags": []
   },
   "outputs": [
    {
     "name": "stderr",
     "output_type": "stream",
     "text": [
      "ps: unrecognized option: p\n",
      "BusyBox v1.37.0 (2025-05-26 20:04:45 UTC) multi-call binary.\n",
      "\n",
      "Usage: ps [-o COL1,COL2=HEADER] [-T]\n",
      "\n",
      "Show list of processes\n",
      "\n",
      "\t-o COL1,COL2=HEADER\tSelect columns for display\n",
      "\t-T\t\t\tShow threads\n",
      "Setting default log level to \"WARN\".\n",
      "To adjust logging level use sc.setLogLevel(newLevel). For SparkR, use setLogLevel(newLevel).\n",
      "25/06/25 08:12:29 WARN NativeCodeLoader: Unable to load native-hadoop library for your platform... using builtin-java classes where applicable\n"
     ]
    },
    {
     "data": {
      "text/html": [
       "\n",
       "        <div>\n",
       "            <p><b>SparkContext</b></p>\n",
       "\n",
       "            <p><a href=\"http://cc8e4878de29:4040\">Spark UI</a></p>\n",
       "\n",
       "            <dl>\n",
       "              <dt>Version</dt>\n",
       "                <dd><code>v3.5.0</code></dd>\n",
       "              <dt>Master</dt>\n",
       "                <dd><code>local[*]</code></dd>\n",
       "              <dt>AppName</dt>\n",
       "                <dd><code>Spark Recommend System</code></dd>\n",
       "            </dl>\n",
       "        </div>\n",
       "        "
      ],
      "text/plain": [
       "<SparkContext master=local[*] appName=Spark Recommend System>"
      ]
     },
     "execution_count": 3,
     "metadata": {},
     "output_type": "execute_result"
    }
   ],
   "source": [
    "from pyspark.ml.recommendation import ALS\n",
    "\n",
    "appName = \"Spark Recommend System\"\n",
    "spark = SparkSession \\\n",
    "    .builder \\\n",
    "    .appName(appName) \\\n",
    "    .config(\"spark.some.config.option\", \"some-value\") \\\n",
    "    .getOrCreate()\n",
    "\n",
    "sc=spark.sparkContext\n",
    "sc"
   ]
  },
  {
   "cell_type": "code",
   "execution_count": 4,
   "id": "9ce4607a-a8b3-4071-a5f6-6e11a307f603",
   "metadata": {
    "tags": []
   },
   "outputs": [
    {
     "name": "stderr",
     "output_type": "stream",
     "text": [
      "                                                                                "
     ]
    }
   ],
   "source": [
    "books = spark.read.csv('Books.csv', inferSchema=True, header=True)\n",
    "users = spark.read.csv('Users.csv', inferSchema=True, header=True)\n",
    "ratings = spark.read.csv('Ratings.csv', inferSchema=True, header=True)"
   ]
  },
  {
   "cell_type": "markdown",
   "id": "7d363d23-ddbb-4e01-8b7c-908fcca3640a",
   "metadata": {},
   "source": [
    "## 1)PREPROCESSİNG"
   ]
  },
  {
   "cell_type": "code",
   "execution_count": 5,
   "id": "0e346f86-1ddc-4ee8-be54-884f0a777481",
   "metadata": {
    "tags": []
   },
   "outputs": [
    {
     "name": "stderr",
     "output_type": "stream",
     "text": [
      "[Stage 6:=========>                                               (2 + 10) / 12]"
     ]
    },
    {
     "name": "stdout",
     "output_type": "stream",
     "text": [
      "+----------+--------------------+-------------------+-------------------+--------------------+\n",
      "|      ISBN|          Book-Title|        Book-Author|Year-Of-Publication|           Publisher|\n",
      "+----------+--------------------+-------------------+-------------------+--------------------+\n",
      "|0590567330| A Light in the S...|        Karen Hesse|               1999|Hyperion Books fo...|\n",
      "|0451205480| Murder of a Slee...|     Denise Swanson|               2002|         Signet Book|\n",
      "|0671019155| Q-Space (Star Tr...|           Greg Cox|               1998|           Star Trek|\n",
      "|0440987261| This Place Has N...|     Paula Danziger|               1987|Random House Chil...|\n",
      "|0452279186|                !Yo!|      Julia Alvarez|               1997|         Plume Books|\n",
      "|0060169419|\"A Wing and a Pra...|    Harry H. Crosby|               1993|       Harpercollins|\n",
      "|0237519984|\"Active Drama Pla...|     Sheree Vickers|               1999|  Evans Brothers Ltd|\n",
      "|0486205371|\"Best \\Thinking M...|   Jacques Futrelle|               1974|         Dover Pubns|\n",
      "|8423991318|\"Deslices histÃ³r...|MarÃ­a JosÃ© Voltes|               1996|              Espasa|\n",
      "|0743451791|\"Devil in a Blue ...|      Walter Mosley|               2002|Washington Square...|\n",
      "+----------+--------------------+-------------------+-------------------+--------------------+\n",
      "only showing top 10 rows\n",
      "\n"
     ]
    },
    {
     "name": "stderr",
     "output_type": "stream",
     "text": [
      "                                                                                "
     ]
    }
   ],
   "source": [
    "books=books.drop(\"Image-URL-S\")\n",
    "books=books.drop(\"Image-URL-M\")\n",
    "books=books.drop(\"Image-URL-L\")\n",
    "\n",
    "books=books.dropna()\n",
    "books=books.dropDuplicates(subset=[\"Book-Title\"])\n",
    "books.show(10)"
   ]
  },
  {
   "cell_type": "code",
   "execution_count": 6,
   "id": "17ead443-97b6-49f2-bcac-6d0a9c3b0c85",
   "metadata": {
    "tags": []
   },
   "outputs": [
    {
     "name": "stdout",
     "output_type": "stream",
     "text": [
      "         ISBN                                         Book-Title  \\\n",
      "0  0590567330   A Light in the Storm: The Civil War Diary of ...   \n",
      "1  0451205480   Murder of a Sleeping Beauty (Scumble River My...   \n",
      "2  0671019155   Q-Space (Star Trek The Next Generation, Book 47)   \n",
      "3  0440987261   This Place Has No Atmosphere (Laurel-Leaf Books)   \n",
      "4  0452279186                                               !Yo!   \n",
      "\n",
      "      Book-Author Year-Of-Publication                    Publisher  newISBN  \n",
      "0     Karen Hesse                1999  Hyperion Books for Children        0  \n",
      "1  Denise Swanson                2002                  Signet Book        1  \n",
      "2        Greg Cox                1998                    Star Trek        2  \n",
      "3  Paula Danziger                1987   Random House Childrens Pub        3  \n",
      "4   Julia Alvarez                1997                  Plume Books        4  \n"
     ]
    }
   ],
   "source": [
    "import pandas as pd\n",
    "\n",
    "books_pd=books.toPandas()\n",
    "isbn_mapping = {isbn: index for index, isbn in enumerate(books_pd['ISBN'].unique())}\n",
    "books_pd['newISBN'] = books_pd['ISBN'].map(isbn_mapping)\n",
    "print(books_pd.head())\n"
   ]
  },
  {
   "cell_type": "code",
   "execution_count": 7,
   "id": "38723e44-5891-4bf9-8d5a-fe828c876f8c",
   "metadata": {
    "tags": []
   },
   "outputs": [],
   "source": [
    "books_new=spark.createDataFrame(books_pd)"
   ]
  },
  {
   "cell_type": "code",
   "execution_count": 8,
   "id": "996cdb7f-5ea9-4f62-a984-8c1005cd58a0",
   "metadata": {
    "tags": []
   },
   "outputs": [
    {
     "name": "stderr",
     "output_type": "stream",
     "text": [
      "25/06/25 08:12:47 WARN TaskSetManager: Stage 12 contains a task of very large size (2005 KiB). The maximum recommended task size is 1000 KiB.\n"
     ]
    },
    {
     "name": "stdout",
     "output_type": "stream",
     "text": [
      "+----------+--------------------+-------------------+-------------------+--------------------+-------+\n",
      "|      ISBN|          Book-Title|        Book-Author|Year-Of-Publication|           Publisher|newISBN|\n",
      "+----------+--------------------+-------------------+-------------------+--------------------+-------+\n",
      "|0590567330| A Light in the S...|        Karen Hesse|               1999|Hyperion Books fo...|      0|\n",
      "|0451205480| Murder of a Slee...|     Denise Swanson|               2002|         Signet Book|      1|\n",
      "|0671019155| Q-Space (Star Tr...|           Greg Cox|               1998|           Star Trek|      2|\n",
      "|0440987261| This Place Has N...|     Paula Danziger|               1987|Random House Chil...|      3|\n",
      "|0452279186|                !Yo!|      Julia Alvarez|               1997|         Plume Books|      4|\n",
      "|0060169419|\"A Wing and a Pra...|    Harry H. Crosby|               1993|       Harpercollins|      5|\n",
      "|0237519984|\"Active Drama Pla...|     Sheree Vickers|               1999|  Evans Brothers Ltd|      6|\n",
      "|0486205371|\"Best \\Thinking M...|   Jacques Futrelle|               1974|         Dover Pubns|      7|\n",
      "|8423991318|\"Deslices histÃ³r...|MarÃ­a JosÃ© Voltes|               1996|              Espasa|      8|\n",
      "|0743451791|\"Devil in a Blue ...|      Walter Mosley|               2002|Washington Square...|      9|\n",
      "+----------+--------------------+-------------------+-------------------+--------------------+-------+\n",
      "only showing top 10 rows\n",
      "\n"
     ]
    }
   ],
   "source": [
    "books_new.show(10)\n"
   ]
  },
  {
   "cell_type": "code",
   "execution_count": 9,
   "id": "3ccbcfea-eb7b-48b1-ac63-187032e52b41",
   "metadata": {
    "tags": []
   },
   "outputs": [
    {
     "name": "stderr",
     "output_type": "stream",
     "text": [
      "25/06/25 08:12:48 WARN TaskSetManager: Stage 13 contains a task of very large size (2005 KiB). The maximum recommended task size is 1000 KiB.\n"
     ]
    },
    {
     "data": {
      "text/plain": [
       "242132"
      ]
     },
     "execution_count": 9,
     "metadata": {},
     "output_type": "execute_result"
    }
   ],
   "source": [
    "books_new.count()"
   ]
  },
  {
   "cell_type": "code",
   "execution_count": 10,
   "id": "184a9576-3435-49f6-b61e-e5c6caaedfbc",
   "metadata": {
    "tags": []
   },
   "outputs": [
    {
     "name": "stdout",
     "output_type": "stream",
     "text": [
      "+-------+--------------------+----+\n",
      "|User-ID|            Location| Age|\n",
      "+-------+--------------------+----+\n",
      "|    177|amsterdam, n/a, n...|46.0|\n",
      "|    342|sokoto, niedersac...|28.0|\n",
      "|    700|georgetown, n/a, ...|16.0|\n",
      "|    761|fuzhou, fujian, c...|30.0|\n",
      "|   1382|phoenix, arizona,...|33.0|\n",
      "|   1628|lagos, lagos, nig...|20.0|\n",
      "|   1845|fredericksburg, v...|34.0|\n",
      "|   2386|pittsboro, north ...|40.0|\n",
      "|   2471|quezon city, metr...|19.0|\n",
      "|   2494|hammer, wisconsin...|27.0|\n",
      "+-------+--------------------+----+\n",
      "only showing top 10 rows\n",
      "\n"
     ]
    },
    {
     "data": {
      "text/plain": [
       "168340"
      ]
     },
     "execution_count": 10,
     "metadata": {},
     "output_type": "execute_result"
    }
   ],
   "source": [
    "users=users.dropna()\n",
    "users=users.dropDuplicates()\n",
    "users.show(10)\n",
    "users.count()"
   ]
  },
  {
   "cell_type": "code",
   "execution_count": 11,
   "id": "e66166c5-eed5-4377-9b54-cb5d3a6606ce",
   "metadata": {
    "tags": []
   },
   "outputs": [
    {
     "name": "stderr",
     "output_type": "stream",
     "text": [
      "                                                                                "
     ]
    },
    {
     "name": "stdout",
     "output_type": "stream",
     "text": [
      "+-------+----------+-----------+\n",
      "|User-ID|      ISBN|Book-Rating|\n",
      "+-------+----------+-----------+\n",
      "| 276875|8806155873|          0|\n",
      "| 277042|0446611212|          8|\n",
      "| 277187|038528859X|          0|\n",
      "| 277195|006251170X|          0|\n",
      "| 277427|042514755X|          0|\n",
      "| 277427|0915943263|          0|\n",
      "| 277427|0930014464|          0|\n",
      "| 277478|034066049X|          0|\n",
      "| 277478|0440234743|          0|\n",
      "| 277478|0860685179|          0|\n",
      "+-------+----------+-----------+\n",
      "only showing top 10 rows\n",
      "\n"
     ]
    },
    {
     "data": {
      "text/plain": [
       "1149780"
      ]
     },
     "execution_count": 11,
     "metadata": {},
     "output_type": "execute_result"
    }
   ],
   "source": [
    "ratings=ratings.dropna()\n",
    "ratings=ratings.dropDuplicates()\n",
    "ratings.show(10)\n",
    "ratings.count()"
   ]
  },
  {
   "cell_type": "code",
   "execution_count": 12,
   "id": "6a69ff3d-c909-4b14-b022-a88c1128c353",
   "metadata": {
    "tags": []
   },
   "outputs": [
    {
     "name": "stderr",
     "output_type": "stream",
     "text": [
      "25/06/25 08:12:52 WARN TaskSetManager: Stage 35 contains a task of very large size (2005 KiB). The maximum recommended task size is 1000 KiB.\n",
      "25/06/25 08:12:54 WARN TaskSetManager: Stage 43 contains a task of very large size (2005 KiB). The maximum recommended task size is 1000 KiB.\n"
     ]
    },
    {
     "name": "stdout",
     "output_type": "stream",
     "text": [
      "+----------+-------+-----------+--------------------+----------------+-------------------+--------------------+-------+\n",
      "|      ISBN|User-ID|Book-Rating|          Book-Title|     Book-Author|Year-Of-Publication|           Publisher|newISBN|\n",
      "+----------+-------+-----------+--------------------+----------------+-------------------+--------------------+-------+\n",
      "|0001048473|  23902|          0|Nothing Can Be Be...|Barns &amp; Budd|               1996|            Atlantic|  10691|\n",
      "|0001372564|  16319|          0|       Which Colour?|     Sue Dreamer|               1989|HarperCollins Pub...|  57662|\n",
      "|0001382381|  26583|          0|Huck Scarry's Ste...|     Huck Scarry|               1979|HarperCollins Pub...| 181082|\n",
      "|0001718126| 176062|          0|ARE YOU MY MOTHER...|           Seuss|               1993|HarperCollins Pub...| 194106|\n",
      "|0001840517| 114216|          0|                Bess|   Robert Leeson|               1975|             Collins|  79340|\n",
      "|0001848445|  11676|          0| THE COAL HOUSE T/PB|   Andrew Taylor|               1986|HarperCollins Pub...| 168501|\n",
      "|0001848445| 131402|          0| THE COAL HOUSE T/PB|   Andrew Taylor|               1986|HarperCollins Pub...| 168501|\n",
      "|0001848445| 145927|          0| THE COAL HOUSE T/PB|   Andrew Taylor|               1986|HarperCollins Pub...| 168501|\n",
      "|0001900277| 206979|          0|Glue (First Facts...|   Harriet Hains|               1989|HarperCollins Pub...|  25500|\n",
      "|0001900277|  11676|          0|Glue (First Facts...|   Harriet Hains|               1989|HarperCollins Pub...|  25500|\n",
      "+----------+-------+-----------+--------------------+----------------+-------------------+--------------------+-------+\n",
      "only showing top 10 rows\n",
      "\n"
     ]
    },
    {
     "name": "stderr",
     "output_type": "stream",
     "text": [
      "                                                                                "
     ]
    },
    {
     "data": {
      "text/plain": [
       "883075"
      ]
     },
     "execution_count": 12,
     "metadata": {},
     "output_type": "execute_result"
    }
   ],
   "source": [
    "spark_df=ratings.join(books_new,\"ISBN\")\n",
    "spark_df.show(10)\n",
    "spark_df.count()"
   ]
  },
  {
   "cell_type": "code",
   "execution_count": 13,
   "id": "f2b712ea-392e-42d8-9bc7-a01b10467985",
   "metadata": {
    "tags": []
   },
   "outputs": [],
   "source": [
    "spark_df=spark_df.dropna()"
   ]
  },
  {
   "cell_type": "code",
   "execution_count": 14,
   "id": "a388d962-866b-492b-bf3d-e94b4ad290b7",
   "metadata": {
    "tags": []
   },
   "outputs": [
    {
     "name": "stderr",
     "output_type": "stream",
     "text": [
      "25/06/25 08:12:56 WARN TaskSetManager: Stage 52 contains a task of very large size (2005 KiB). The maximum recommended task size is 1000 KiB.\n",
      "25/06/25 08:12:59 WARN TaskSetManager: Stage 70 contains a task of very large size (2005 KiB). The maximum recommended task size is 1000 KiB.\n"
     ]
    },
    {
     "name": "stdout",
     "output_type": "stream",
     "text": [
      "+-------+----------+-----------+--------------------+--------------------+-------------------+--------------------+-------+--------------------+----+\n",
      "|User-ID|      ISBN|Book-Rating|          Book-Title|         Book-Author|Year-Of-Publication|           Publisher|newISBN|            Location| Age|\n",
      "+-------+----------+-----------+--------------------+--------------------+-------------------+--------------------+-------+--------------------+----+\n",
      "|     78|0394895894|          8|The Ruby in the S...|      PHILIP PULLMAN|               1988|         Laurel Leaf| 113631|oakland, californ...|18.0|\n",
      "|     85|0340767936|          5|      Turning Thirty|          Mike Gayle|               2000|Hodder &amp; Stou...| 191962|london, england, ...|41.0|\n",
      "|     85|0743403843|          0|            Decipher|         Stel Pavlou|               2002|Simon &amp; Schus...|   3979|london, england, ...|41.0|\n",
      "|    133|0345372700|         10|If I Ever Get Bac...|      LEWIS GRIZZARD|               1991|    Ballantine Books| 104195|jacksonville, flo...|45.0|\n",
      "|    133|0446325805|          0|If Love Were Oil,...|      Lewis Grizzard|               1994|   Warner Books (Mm)| 142840|jacksonville, flo...|45.0|\n",
      "|    133|0380619458|          0|  The Mosquito Coast|        Paul Theroux|               1990|Harper Mass Marke...|  74098|jacksonville, flo...|45.0|\n",
      "|    183|8476409419|          8|Estudios sobre el...| Jose Ortega Y Gaset|               2001|Downtown Book Center| 140574|porto, porto, por...|27.0|\n",
      "|    183|2070567842|          8|Folio Junior: L'h...|      Su>skind-Sempe|                  0|  Gallimard-Jeunesse| 235076|porto, porto, por...|27.0|\n",
      "|    183|8433920081|          0| El Almuerzo Desnudo|William S. Burroughs|               1995|            Anagrama| 234676|porto, porto, por...|27.0|\n",
      "|    183|225314696X|          0|Contes de fÃ?Â©es...|          Boris Vian|               2002|                 LGF|  61449|porto, porto, por...|27.0|\n",
      "+-------+----------+-----------+--------------------+--------------------+-------------------+--------------------+-------+--------------------+----+\n",
      "only showing top 10 rows\n",
      "\n"
     ]
    },
    {
     "name": "stderr",
     "output_type": "stream",
     "text": [
      "                                                                                "
     ]
    },
    {
     "data": {
      "text/plain": [
       "646957"
      ]
     },
     "execution_count": 14,
     "metadata": {},
     "output_type": "execute_result"
    }
   ],
   "source": [
    "spark_df=spark_df.join(users,\"User-ID\")\n",
    "spark_df.show(10)\n",
    "spark_df.count()"
   ]
  },
  {
   "cell_type": "code",
   "execution_count": 15,
   "id": "7824d6f2-4d95-4e44-8be5-9bdb99d3775d",
   "metadata": {
    "tags": []
   },
   "outputs": [],
   "source": [
    "spark_df=spark_df.dropna()"
   ]
  },
  {
   "cell_type": "code",
   "execution_count": 16,
   "id": "c52cde0d-bade-4ea0-8b28-0aca9fd2b1c5",
   "metadata": {
    "tags": []
   },
   "outputs": [
    {
     "name": "stderr",
     "output_type": "stream",
     "text": [
      "25/06/25 08:13:01 WARN TaskSetManager: Stage 86 contains a task of very large size (2005 KiB). The maximum recommended task size is 1000 KiB.\n",
      "[Stage 95:>                                                       (0 + 12) / 13]"
     ]
    },
    {
     "name": "stdout",
     "output_type": "stream",
     "text": [
      "+-------+----------+-----------+--------------------+--------------------+-------------------+--------------------+-------+--------------------+----+\n",
      "|User-ID|      ISBN|Book-Rating|          Book-Title|         Book-Author|Year-Of-Publication|           Publisher|newISBN|            Location| Age|\n",
      "+-------+----------+-----------+--------------------+--------------------+-------------------+--------------------+-------+--------------------+----+\n",
      "|     78|0394895894|          8|The Ruby in the S...|      PHILIP PULLMAN|               1988|         Laurel Leaf| 113631|oakland, californ...|18.0|\n",
      "|     85|0340767936|          5|      Turning Thirty|          Mike Gayle|               2000|Hodder &amp; Stou...| 191962|london, england, ...|41.0|\n",
      "|     85|0743403843|          0|            Decipher|         Stel Pavlou|               2002|Simon &amp; Schus...|   3979|london, england, ...|41.0|\n",
      "|    133|0345372700|         10|If I Ever Get Bac...|      LEWIS GRIZZARD|               1991|    Ballantine Books| 104195|jacksonville, flo...|45.0|\n",
      "|    133|0446325805|          0|If Love Were Oil,...|      Lewis Grizzard|               1994|   Warner Books (Mm)| 142840|jacksonville, flo...|45.0|\n",
      "|    133|0380619458|          0|  The Mosquito Coast|        Paul Theroux|               1990|Harper Mass Marke...|  74098|jacksonville, flo...|45.0|\n",
      "|    183|8476409419|          8|Estudios sobre el...| Jose Ortega Y Gaset|               2001|Downtown Book Center| 140574|porto, porto, por...|27.0|\n",
      "|    183|2070567842|          8|Folio Junior: L'h...|      Su>skind-Sempe|                  0|  Gallimard-Jeunesse| 235076|porto, porto, por...|27.0|\n",
      "|    183|8433920081|          0| El Almuerzo Desnudo|William S. Burroughs|               1995|            Anagrama| 234676|porto, porto, por...|27.0|\n",
      "|    183|225314696X|          0|Contes de fÃ?Â©es...|          Boris Vian|               2002|                 LGF|  61449|porto, porto, por...|27.0|\n",
      "+-------+----------+-----------+--------------------+--------------------+-------------------+--------------------+-------+--------------------+----+\n",
      "only showing top 10 rows\n",
      "\n"
     ]
    },
    {
     "name": "stderr",
     "output_type": "stream",
     "text": [
      "                                                                                "
     ]
    }
   ],
   "source": [
    "spark_df.show(10)"
   ]
  },
  {
   "cell_type": "code",
   "execution_count": 17,
   "id": "e6983bb0-0b57-4922-9101-fe0ede52daba",
   "metadata": {
    "tags": []
   },
   "outputs": [
    {
     "name": "stderr",
     "output_type": "stream",
     "text": [
      "25/06/25 08:13:03 WARN TaskSetManager: Stage 103 contains a task of very large size (2005 KiB). The maximum recommended task size is 1000 KiB.\n"
     ]
    },
    {
     "name": "stdout",
     "output_type": "stream",
     "text": [
      "newISBN sütunundaki benzersiz değer sayısı: 242132\n"
     ]
    }
   ],
   "source": [
    "unique_newISBN_count = books_new.select(\"newISBN\").distinct().count()\n",
    "print(\"newISBN sütunundaki benzersiz değer sayısı:\", unique_newISBN_count)"
   ]
  },
  {
   "cell_type": "code",
   "execution_count": 18,
   "id": "8979a6fa-3da7-4ccc-a3f4-699434855ff1",
   "metadata": {
    "tags": []
   },
   "outputs": [
    {
     "name": "stdout",
     "output_type": "stream",
     "text": [
      "root\n",
      " |-- User-ID: integer (nullable = true)\n",
      " |-- ISBN: string (nullable = true)\n",
      " |-- Book-Rating: integer (nullable = true)\n",
      " |-- Book-Title: string (nullable = true)\n",
      " |-- Book-Author: string (nullable = true)\n",
      " |-- Year-Of-Publication: string (nullable = true)\n",
      " |-- Publisher: string (nullable = true)\n",
      " |-- newISBN: long (nullable = true)\n",
      " |-- Location: string (nullable = true)\n",
      " |-- Age: string (nullable = true)\n",
      "\n"
     ]
    }
   ],
   "source": [
    "spark_df.printSchema()"
   ]
  },
  {
   "cell_type": "code",
   "execution_count": 19,
   "id": "10cffbc6-a9fc-497d-82d9-bc6b4f382486",
   "metadata": {
    "tags": []
   },
   "outputs": [
    {
     "name": "stderr",
     "output_type": "stream",
     "text": [
      "25/06/25 08:13:04 WARN TaskSetManager: Stage 110 contains a task of very large size (2005 KiB). The maximum recommended task size is 1000 KiB.\n",
      "25/06/25 08:13:06 WARN TaskSetManager: Stage 128 contains a task of very large size (2005 KiB). The maximum recommended task size is 1000 KiB.\n"
     ]
    },
    {
     "name": "stdout",
     "output_type": "stream",
     "text": [
      "+-------+----------+-----------+--------------------+-------------------+-------------------+--------------------+-------+--------------------+----+\n",
      "|User-ID|      ISBN|Book-Rating|          Book-Title|        Book-Author|Year-Of-Publication|           Publisher|newISBN|            Location| Age|\n",
      "+-------+----------+-----------+--------------------+-------------------+-------------------+--------------------+-------+--------------------+----+\n",
      "|     78|0394895894|          8|The Ruby in the S...|     PHILIP PULLMAN|               1988|         Laurel Leaf| 113631|oakland, californ...|18.0|\n",
      "|     85|0340767936|          5|      Turning Thirty|         Mike Gayle|               2000|Hodder &amp; Stou...| 191962|london, england, ...|41.0|\n",
      "|    133|0345372700|         10|If I Ever Get Bac...|     LEWIS GRIZZARD|               1991|    Ballantine Books| 104195|jacksonville, flo...|45.0|\n",
      "|    183|8476409419|          8|Estudios sobre el...|Jose Ortega Y Gaset|               2001|Downtown Book Center| 140574|porto, porto, por...|27.0|\n",
      "|    183|2070567842|          8|Folio Junior: L'h...|     Su>skind-Sempe|                  0|  Gallimard-Jeunesse| 235076|porto, porto, por...|27.0|\n",
      "|    183|8440630794|          7|Cuentos del Plane...|   Arthur C. Clarke|               1993|         Ediciones B| 138950|porto, porto, por...|27.0|\n",
      "|    183|847223973X|          9|Que Se Mueran Los...|         Boris Vian|               2002|            Tusquets|  11816|porto, porto, por...|27.0|\n",
      "|    362|0446606197|          7|Killer Market (De...|     Margaret Maron|               1999|        Warner Books|  27431|thunder bay, onta...|63.0|\n",
      "|    392|8478884963|          9| Una casa en Irlanda|       Maeve Binchy|               1999|          Salamandra| 115100|barcelona, catalu...|44.0|\n",
      "|    392|8475960936|          9|Les llengÃ¼es d'A...|   M. Carme Junyent|               1986| Editorial EmpÃºries| 163451|barcelona, catalu...|44.0|\n",
      "+-------+----------+-----------+--------------------+-------------------+-------------------+--------------------+-------+--------------------+----+\n",
      "only showing top 10 rows\n",
      "\n"
     ]
    },
    {
     "name": "stderr",
     "output_type": "stream",
     "text": [
      "                                                                                "
     ]
    },
    {
     "data": {
      "text/plain": [
       "231289"
      ]
     },
     "execution_count": 19,
     "metadata": {},
     "output_type": "execute_result"
    }
   ],
   "source": [
    "from pyspark.sql.functions import col\n",
    "\n",
    "spark_df = spark_df.filter(col(\"Book-Rating\") != 0)\n",
    "spark_df = spark_df.filter(col(\"Book-Author\") != \"Not Applicable (Na )\")\n",
    "spark_df.show(10)\n",
    "spark_df.count()"
   ]
  },
  {
   "cell_type": "code",
   "execution_count": 20,
   "id": "9dd95811-249e-4b00-8e55-e4789c5a4719",
   "metadata": {
    "tags": []
   },
   "outputs": [
    {
     "name": "stderr",
     "output_type": "stream",
     "text": [
      "25/06/25 08:13:08 WARN TaskSetManager: Stage 154 contains a task of very large size (2005 KiB). The maximum recommended task size is 1000 KiB.\n",
      "                                                                                "
     ]
    },
    {
     "data": {
      "text/plain": [
       "{2006: 9.0,\n",
       " 2005: 8.15,\n",
       " 1971: 8.1171875,\n",
       " 1970: 8.10958904109589,\n",
       " 1974: 8.077844311377245,\n",
       " 2004: 7.925047438330171,\n",
       " 1976: 7.8913813459268,\n",
       " 1972: 7.887218045112782,\n",
       " 2003: 7.871341800110436,\n",
       " 1973: 7.847117794486215}"
      ]
     },
     "execution_count": 20,
     "metadata": {},
     "output_type": "execute_result"
    }
   ],
   "source": [
    "from pyspark.sql.functions import col, udf\n",
    "from pyspark.sql.types import BooleanType\n",
    "\n",
    "def is_valid_year(year):\n",
    "    try:\n",
    "        year = int(year)\n",
    "        return 1970 <= year <= 2023\n",
    "    except ValueError:\n",
    "        return False\n",
    "\n",
    "is_valid_year_udf = udf(is_valid_year, BooleanType())\n",
    "\n",
    "filtered_df = spark_df.filter(is_valid_year_udf(col('Year-Of-Publication')))\n",
    "filtered_df = filtered_df.withColumn('Year-Of-Publication', col('Year-Of-Publication').cast('int'))\n",
    "filtered_rdd = filtered_df.rdd\n",
    "\n",
    "mapped_rdd = filtered_rdd.map(lambda row: (row['Year-Of-Publication'], (row['Book-Rating'], 1)))\n",
    "\n",
    "reduce_output = mapped_rdd.reduceByKey(lambda x, y: (x[0] + y[0], x[1] + y[1]))\n",
    "\n",
    "average_ratings_rdd = reduce_output.map(lambda x: (x[0], x[1][0] / x[1][1]))\n",
    "\n",
    "result = average_ratings_rdd.collect()\n",
    "\n",
    "sorted_result = sorted(result, key=lambda x: x[1], reverse=True)[:10]\n",
    "top_years_dict = {year: count for year, count in sorted_result}\n",
    "top_years_dict\n"
   ]
  },
  {
   "cell_type": "code",
   "execution_count": 21,
   "id": "9860483f-f9cc-4e4e-953c-1b19f617e6be",
   "metadata": {
    "tags": []
   },
   "outputs": [
    {
     "name": "stdout",
     "output_type": "stream",
     "text": [
      "root\n",
      " |-- User-ID: integer (nullable = true)\n",
      " |-- ISBN: string (nullable = true)\n",
      " |-- Book-Rating: integer (nullable = true)\n",
      " |-- Book-Title: string (nullable = true)\n",
      " |-- Book-Author: string (nullable = true)\n",
      " |-- Year-Of-Publication: integer (nullable = true)\n",
      " |-- Publisher: string (nullable = true)\n",
      " |-- newISBN: long (nullable = true)\n",
      " |-- Location: string (nullable = true)\n",
      " |-- Age: string (nullable = true)\n",
      "\n"
     ]
    }
   ],
   "source": [
    "spark_df=filtered_df\n",
    "spark_df.printSchema()"
   ]
  },
  {
   "cell_type": "markdown",
   "id": "d7e01f5c-e994-4216-aaa7-01360aa90596",
   "metadata": {},
   "source": [
    "## 2)Visualition"
   ]
  },
  {
   "cell_type": "code",
   "execution_count": 22,
   "id": "60254439-6aa6-4b2e-9aa6-b969c43f2aed",
   "metadata": {
    "tags": []
   },
   "outputs": [
    {
     "name": "stdout",
     "output_type": "stream",
     "text": [
      "   Year  Avarage Ratings\n",
      "0  2006         9.000000\n",
      "1  2005         8.150000\n",
      "2  1971         8.117188\n",
      "3  1970         8.109589\n",
      "4  1974         8.077844\n",
      "5  2004         7.925047\n",
      "6  1976         7.891381\n",
      "7  1972         7.887218\n",
      "8  2003         7.871342\n",
      "9  1973         7.847118\n"
     ]
    }
   ],
   "source": [
    "df_pandas = pd.DataFrame(list(top_years_dict.items()), columns=['Year', 'Avarage Ratings'])\n",
    "print(df_pandas)"
   ]
  },
  {
   "cell_type": "code",
   "execution_count": 23,
   "id": "9f5d7c77-a124-411f-9b5f-8c88e4579099",
   "metadata": {
    "tags": []
   },
   "outputs": [
    {
     "data": {
      "text/plain": [
       "<Axes: xlabel='Year', ylabel='Avarage Ratings'>"
      ]
     },
     "execution_count": 23,
     "metadata": {},
     "output_type": "execute_result"
    },
    {
     "data": {
      "image/png": "[encoded data removed]",
      "text/plain": [
       "<Figure size 640x480 with 1 Axes>"
      ]
     },
     "metadata": {},
     "output_type": "display_data"
    }
   ],
   "source": [
    "import seaborn as sns\n",
    "sns.barplot(x=\"Year\",y=\"Avarage Ratings\",data=df_pandas)"
   ]
  },
  {
   "cell_type": "code",
   "execution_count": 24,
   "id": "a0e6cdc7-e9de-4c7a-9044-edddc4416139",
   "metadata": {
    "tags": []
   },
   "outputs": [
    {
     "name": "stderr",
     "output_type": "stream",
     "text": [
      "                                                                                "
     ]
    },
    {
     "data": {
      "text/plain": [
       "{2002: 22143,\n",
       " 2003: 19921,\n",
       " 2001: 18682,\n",
       " 2000: 16545,\n",
       " 1999: 16442,\n",
       " 1998: 14685,\n",
       " 1997: 13029,\n",
       " 1996: 12906,\n",
       " 1995: 11018,\n",
       " 1994: 9927}"
      ]
     },
     "execution_count": 24,
     "metadata": {},
     "output_type": "execute_result"
    }
   ],
   "source": [
    "rdd = spark_df.rdd\n",
    "mapped_rdd = rdd.map(lambda row: (row['Year-Of-Publication'], 1))\n",
    "reduce_output = mapped_rdd.reduceByKey(lambda x, y: x + y)\n",
    "result = reduce_output.collect()\n",
    "sorted_result = sorted(result, key=lambda x: x[1], reverse=True)[:10]\n",
    "top_years_dict_count = {year: count for year, count in sorted_result}\n",
    "top_years_dict_count"
   ]
  },
  {
   "cell_type": "code",
   "execution_count": 25,
   "id": "47151580-559d-4aa2-a34b-d356b03eb33f",
   "metadata": {
    "tags": []
   },
   "outputs": [
    {
     "name": "stdout",
     "output_type": "stream",
     "text": [
      "   Year  Book Count\n",
      "0  2002       22143\n",
      "1  2003       19921\n",
      "2  2001       18682\n",
      "3  2000       16545\n",
      "4  1999       16442\n",
      "5  1998       14685\n",
      "6  1997       13029\n",
      "7  1996       12906\n",
      "8  1995       11018\n",
      "9  1994        9927\n"
     ]
    }
   ],
   "source": [
    "import pandas as pd\n",
    "df_pandas = pd.DataFrame(list(top_years_dict_count.items()), columns=['Year', 'Book Count'])\n",
    "print(df_pandas)"
   ]
  },
  {
   "cell_type": "code",
   "execution_count": 26,
   "id": "43a70726-6dd4-48a5-8ee8-5084ff02c124",
   "metadata": {
    "tags": []
   },
   "outputs": [
    {
     "data": {
      "text/plain": [
       "<Axes: xlabel='Year', ylabel='Book Count'>"
      ]
     },
     "execution_count": 26,
     "metadata": {},
     "output_type": "execute_result"
    },
    {
     "data": {
      "image/png": "[encoded data removed]",
      "text/plain": [
       "<Figure size 640x480 with 1 Axes>"
      ]
     },
     "metadata": {},
     "output_type": "display_data"
    }
   ],
   "source": [
    "import seaborn as sns\n",
    "\n",
    "sns.barplot(x=\"Year\",y=\"Book Count\",data=df_pandas)"
   ]
  },
  {
   "cell_type": "code",
   "execution_count": 27,
   "id": "39055cc4-064d-4ce6-89bf-fb95d9afae7f",
   "metadata": {},
   "outputs": [
    {
     "name": "stderr",
     "output_type": "stream",
     "text": [
      "25/06/25 08:13:14 WARN TaskSetManager: Stage 181 contains a task of very large size (2005 KiB). The maximum recommended task size is 1000 KiB.\n",
      "                                                                                "
     ]
    },
    {
     "data": {
      "text/plain": [
       "<Axes: xlabel='Book-Rating', ylabel='count'>"
      ]
     },
     "execution_count": 27,
     "metadata": {},
     "output_type": "execute_result"
    },
    {
     "data": {
      "image/png": "[encoded data removed]",
      "text/plain": [
       "<Figure size 640x480 with 1 Axes>"
      ]
     },
     "metadata": {},
     "output_type": "display_data"
    }
   ],
   "source": [
    "output=spark_df.groupby(\"Book-Rating\").count().toPandas()\n",
    "sns.barplot(x=output[\"Book-Rating\"],y=output[\"count\"],data=output)"
   ]
  },
  {
   "cell_type": "code",
   "execution_count": 28,
   "id": "0882b9b3-de97-418e-b26f-72758594c7d2",
   "metadata": {
    "tags": []
   },
   "outputs": [],
   "source": [
    "from pyspark.sql.functions import desc\n",
    "\n",
    "top_authors_df =books.groupby('Book-Author').count() \\\n",
    "                   .orderBy(desc('count')) \\\n",
    "                   .limit(10)\n"
   ]
  },
  {
   "cell_type": "code",
   "execution_count": 29,
   "id": "dbb6f8f9-575b-472f-847c-fee89d68d799",
   "metadata": {
    "tags": []
   },
   "outputs": [
    {
     "name": "stdout",
     "output_type": "stream",
     "text": [
      "+--------------------+-----+\n",
      "|         Book-Author|count|\n",
      "+--------------------+-----+\n",
      "| William Shakespeare|  491|\n",
      "|     Agatha Christie|  466|\n",
      "|       Ann M. Martin|  390|\n",
      "|       Carolyn Keene|  371|\n",
      "|     Francine Pascal|  339|\n",
      "|        Stephen King|  327|\n",
      "|    Barbara Cartland|  292|\n",
      "|        Isaac Asimov|  278|\n",
      "|         R. L. Stine|  276|\n",
      "|Not Applicable (Na )|  276|\n",
      "+--------------------+-----+\n",
      "\n"
     ]
    }
   ],
   "source": [
    "top_authors_df.show(10)"
   ]
  },
  {
   "cell_type": "code",
   "execution_count": 30,
   "id": "d4cd1047-f3cf-4f20-89e7-908d9d5e7c49",
   "metadata": {
    "tags": []
   },
   "outputs": [
    {
     "name": "stdout",
     "output_type": "stream",
     "text": [
      "            Book-Author  count\n",
      "0   William Shakespeare    491\n",
      "1       Agatha Christie    466\n",
      "2         Ann M. Martin    390\n",
      "3         Carolyn Keene    371\n",
      "4       Francine Pascal    339\n",
      "5          Stephen King    327\n",
      "6      Barbara Cartland    292\n",
      "7          Isaac Asimov    278\n",
      "8           R. L. Stine    276\n",
      "9  Not Applicable (Na )    276\n"
     ]
    }
   ],
   "source": [
    "top_authors_pd = top_authors_df.limit(10).toPandas()\n",
    "print(top_authors_pd)"
   ]
  },
  {
   "cell_type": "code",
   "execution_count": 31,
   "id": "1478c24e-2acd-4b79-8a12-21c6ebbea8d5",
   "metadata": {
    "tags": []
   },
   "outputs": [
    {
     "data": {
      "image/png": "[encoded data removed]",
      "text/plain": [
       "<Figure size 1000x600 with 1 Axes>"
      ]
     },
     "metadata": {},
     "output_type": "display_data"
    }
   ],
   "source": [
    "import matplotlib.pyplot as plt\n",
    "\n",
    "plt.figure(figsize=(10, 6))\n",
    "sns.barplot(x=top_authors_pd[\"Book-Author\"], y=top_authors_pd[\"count\"], data=top_authors_pd)\n",
    "plt.xticks(rotation=90)  \n",
    "plt.xlabel('Yazar')\n",
    "plt.ylabel('Kitap Sayısı')\n",
    "plt.title('En Çok Kitabı Basılan Yazar')\n",
    "plt.show()"
   ]
  },
  {
   "cell_type": "code",
   "execution_count": 32,
   "id": "fdfeaa9d-450a-4b03-b81a-844d468c8252",
   "metadata": {
    "tags": []
   },
   "outputs": [
    {
     "name": "stderr",
     "output_type": "stream",
     "text": [
      "25/06/25 08:13:18 WARN TaskSetManager: Stage 219 contains a task of very large size (2005 KiB). The maximum recommended task size is 1000 KiB.\n",
      "                                                                                "
     ]
    },
    {
     "name": "stdout",
     "output_type": "stream",
     "text": [
      "+-------------------+-----------------+\n",
      "|        Book-Author|   Average-Rating|\n",
      "+-------------------+-----------------+\n",
      "|       Stephen King| 7.98452157598499|\n",
      "|       Isaac Asimov|8.037974683544304|\n",
      "|William Shakespeare|8.367272727272727|\n",
      "|    Francine Pascal|6.825806451612904|\n",
      "|    Agatha Christie|7.963718820861678|\n",
      "|        R. L. Stine|6.955380577427822|\n",
      "|      Ann M. Martin|7.057471264367816|\n",
      "|      Carolyn Keene|7.963350785340314|\n",
      "|   Barbara Cartland|              6.6|\n",
      "+-------------------+-----------------+\n",
      "\n"
     ]
    }
   ],
   "source": [
    "from pyspark.sql.functions import avg\n",
    "author_book_counts_df = spark_df.groupBy('Book-Author').count()\n",
    "\n",
    "top_authors_avg_rating_df = spark_df.join(top_authors_df, 'Book-Author') \\\n",
    "                               .groupBy('Book-Author') \\\n",
    "                               .agg(avg('Book-Rating').alias('Average-Rating'))\n",
    "top_authors_avg_rating_df.show()"
   ]
  },
  {
   "cell_type": "code",
   "execution_count": 33,
   "id": "5a412012-0956-4edf-a6c3-19e793481694",
   "metadata": {
    "tags": []
   },
   "outputs": [
    {
     "name": "stderr",
     "output_type": "stream",
     "text": [
      "25/06/25 08:13:22 WARN TaskSetManager: Stage 252 contains a task of very large size (2005 KiB). The maximum recommended task size is 1000 KiB.\n",
      "                                                                                "
     ]
    },
    {
     "data": {
      "text/html": [
       "<div>\n",
       "<style scoped>\n",
       "    .dataframe tbody tr th:only-of-type {\n",
       "        vertical-align: middle;\n",
       "    }\n",
       "\n",
       "    .dataframe tbody tr th {\n",
       "        vertical-align: top;\n",
       "    }\n",
       "\n",
       "    .dataframe thead th {\n",
       "        text-align: right;\n",
       "    }\n",
       "</style>\n",
       "<table border=\"1\" class=\"dataframe\">\n",
       "  <thead>\n",
       "    <tr style=\"text-align: right;\">\n",
       "      <th></th>\n",
       "      <th>Book-Author</th>\n",
       "      <th>Average-Rating</th>\n",
       "    </tr>\n",
       "  </thead>\n",
       "  <tbody>\n",
       "    <tr>\n",
       "      <th>0</th>\n",
       "      <td>Stephen King</td>\n",
       "      <td>7.984522</td>\n",
       "    </tr>\n",
       "    <tr>\n",
       "      <th>1</th>\n",
       "      <td>Isaac Asimov</td>\n",
       "      <td>8.037975</td>\n",
       "    </tr>\n",
       "    <tr>\n",
       "      <th>2</th>\n",
       "      <td>William Shakespeare</td>\n",
       "      <td>8.367273</td>\n",
       "    </tr>\n",
       "    <tr>\n",
       "      <th>3</th>\n",
       "      <td>Francine Pascal</td>\n",
       "      <td>6.825806</td>\n",
       "    </tr>\n",
       "    <tr>\n",
       "      <th>4</th>\n",
       "      <td>Agatha Christie</td>\n",
       "      <td>7.963719</td>\n",
       "    </tr>\n",
       "    <tr>\n",
       "      <th>5</th>\n",
       "      <td>R. L. Stine</td>\n",
       "      <td>6.955381</td>\n",
       "    </tr>\n",
       "    <tr>\n",
       "      <th>6</th>\n",
       "      <td>Ann M. Martin</td>\n",
       "      <td>7.057471</td>\n",
       "    </tr>\n",
       "    <tr>\n",
       "      <th>7</th>\n",
       "      <td>Carolyn Keene</td>\n",
       "      <td>7.963351</td>\n",
       "    </tr>\n",
       "    <tr>\n",
       "      <th>8</th>\n",
       "      <td>Barbara Cartland</td>\n",
       "      <td>6.600000</td>\n",
       "    </tr>\n",
       "  </tbody>\n",
       "</table>\n",
       "</div>"
      ],
      "text/plain": [
       "           Book-Author  Average-Rating\n",
       "0         Stephen King        7.984522\n",
       "1         Isaac Asimov        8.037975\n",
       "2  William Shakespeare        8.367273\n",
       "3      Francine Pascal        6.825806\n",
       "4      Agatha Christie        7.963719\n",
       "5          R. L. Stine        6.955381\n",
       "6        Ann M. Martin        7.057471\n",
       "7        Carolyn Keene        7.963351\n",
       "8     Barbara Cartland        6.600000"
      ]
     },
     "execution_count": 33,
     "metadata": {},
     "output_type": "execute_result"
    }
   ],
   "source": [
    "top_authors_avg_rating_pd = top_authors_avg_rating_df.limit(10).toPandas()\n",
    "top_authors_avg_rating_pd"
   ]
  },
  {
   "cell_type": "code",
   "execution_count": 34,
   "id": "a5cbf08a-95ac-46c3-bb36-db933b1a6b9a",
   "metadata": {
    "tags": []
   },
   "outputs": [
    {
     "data": {
      "image/png": "[encoded data removed]",
      "text/plain": [
       "<Figure size 1000x600 with 1 Axes>"
      ]
     },
     "metadata": {},
     "output_type": "display_data"
    }
   ],
   "source": [
    "plt.figure(figsize=(10, 6))\n",
    "sns.barplot(x=top_authors_avg_rating_pd[\"Book-Author\"], y=top_authors_avg_rating_pd[\"Average-Rating\"], data=top_authors_avg_rating_pd)\n",
    "plt.xticks(rotation=90)  \n",
    "plt.xlabel('Yazar')\n",
    "plt.ylabel('Kitap Sayısı')\n",
    "plt.title('En Çok Kitabı Basılan Yazarların Puan Ortalaması')\n",
    "plt.show()"
   ]
  },
  {
   "cell_type": "markdown",
   "id": "2daa7c3d-959b-4455-90f8-8aa8c62c3b68",
   "metadata": {},
   "source": [
    "## 3)ALS Model ile Eğitim"
   ]
  },
  {
   "cell_type": "code",
   "execution_count": 35,
   "id": "963625a6-2259-41f6-bf1d-6e820bb8ce0a",
   "metadata": {
    "tags": []
   },
   "outputs": [],
   "source": [
    "(train, test) = spark_df.randomSplit([0.7, 0.3])"
   ]
  },
  {
   "cell_type": "code",
   "execution_count": 36,
   "id": "88dd09c8-ad02-41f1-a3cc-a7eea47d93de",
   "metadata": {
    "tags": []
   },
   "outputs": [
    {
     "name": "stderr",
     "output_type": "stream",
     "text": [
      "25/06/25 08:13:24 WARN TaskSetManager: Stage 285 contains a task of very large size (2005 KiB). The maximum recommended task size is 1000 KiB.\n",
      "                                                                                "
     ]
    },
    {
     "data": {
      "text/plain": [
       "158054"
      ]
     },
     "execution_count": 36,
     "metadata": {},
     "output_type": "execute_result"
    }
   ],
   "source": [
    "train.count()"
   ]
  },
  {
   "cell_type": "code",
   "execution_count": 37,
   "id": "9a3e9e1a-e738-4fa4-a562-c6bd9772143a",
   "metadata": {
    "tags": []
   },
   "outputs": [
    {
     "name": "stderr",
     "output_type": "stream",
     "text": [
      "25/06/25 08:13:26 WARN TaskSetManager: Stage 311 contains a task of very large size (2005 KiB). The maximum recommended task size is 1000 KiB.\n",
      "                                                                                "
     ]
    },
    {
     "data": {
      "text/plain": [
       "67839"
      ]
     },
     "execution_count": 37,
     "metadata": {},
     "output_type": "execute_result"
    }
   ],
   "source": [
    "test.count()"
   ]
  },
  {
   "cell_type": "code",
   "execution_count": 38,
   "id": "71f973cc-c478-4cdd-927e-a6d6a6d420b7",
   "metadata": {
    "tags": []
   },
   "outputs": [
    {
     "name": "stderr",
     "output_type": "stream",
     "text": [
      "25/06/25 08:13:28 WARN TaskSetManager: Stage 337 contains a task of very large size (2005 KiB). The maximum recommended task size is 1000 KiB.\n",
      "                                                                                "
     ]
    },
    {
     "data": {
      "text/plain": [
       "225893"
      ]
     },
     "execution_count": 38,
     "metadata": {},
     "output_type": "execute_result"
    }
   ],
   "source": [
    "spark_df.count()"
   ]
  },
  {
   "cell_type": "code",
   "execution_count": 39,
   "id": "69dcf44a-855e-45ee-bd53-99f92af7fa8e",
   "metadata": {
    "tags": []
   },
   "outputs": [
    {
     "name": "stderr",
     "output_type": "stream",
     "text": [
      "25/06/25 08:13:30 WARN TaskSetManager: Stage 363 contains a task of very large size (2005 KiB). The maximum recommended task size is 1000 KiB.\n",
      "25/06/25 08:13:31 WARN TaskSetManager: Stage 374 contains a task of very large size (2005 KiB). The maximum recommended task size is 1000 KiB.\n",
      "25/06/25 08:13:35 WARN InstanceBuilder: Failed to load implementation from:dev.ludovic.netlib.blas.JNIBLAS\n",
      "25/06/25 08:13:35 WARN InstanceBuilder: Failed to load implementation from:dev.ludovic.netlib.lapack.JNILAPACK\n",
      "25/06/25 08:13:37 WARN TaskSetManager: Stage 469 contains a task of very large size (2005 KiB). The maximum recommended task size is 1000 KiB.\n",
      "25/06/25 08:13:40 WARN TaskSetManager: Stage 552 contains a task of very large size (2005 KiB). The maximum recommended task size is 1000 KiB.\n",
      "                                                                                "
     ]
    },
    {
     "name": "stdout",
     "output_type": "stream",
     "text": [
      "Parameters: Rank=10, Iteration=10, Lambda=0.01\n",
      "RMSE: 8.36924879306026, MSE: 70.0443253601406\n",
      "---------------------------------------------\n"
     ]
    },
    {
     "name": "stderr",
     "output_type": "stream",
     "text": [
      "25/06/25 08:13:42 WARN TaskSetManager: Stage 607 contains a task of very large size (2005 KiB). The maximum recommended task size is 1000 KiB.\n",
      "25/06/25 08:13:45 WARN TaskSetManager: Stage 702 contains a task of very large size (2005 KiB). The maximum recommended task size is 1000 KiB.\n",
      "25/06/25 08:13:47 WARN TaskSetManager: Stage 757 contains a task of very large size (2005 KiB). The maximum recommended task size is 1000 KiB.\n",
      "                                                                                "
     ]
    },
    {
     "name": "stdout",
     "output_type": "stream",
     "text": [
      "Parameters: Rank=10, Iteration=10, Lambda=0.1\n",
      "RMSE: 4.4302440938498675, MSE: 19.62706273109163\n",
      "---------------------------------------------\n"
     ]
    },
    {
     "name": "stderr",
     "output_type": "stream",
     "text": [
      "25/06/25 08:13:49 WARN TaskSetManager: Stage 812 contains a task of very large size (2005 KiB). The maximum recommended task size is 1000 KiB.\n",
      "25/06/25 08:13:52 WARN TaskSetManager: Stage 915 contains a task of very large size (2005 KiB). The maximum recommended task size is 1000 KiB.\n",
      "25/06/25 08:13:54 WARN TaskSetManager: Stage 974 contains a task of very large size (2005 KiB). The maximum recommended task size is 1000 KiB.\n",
      "25/06/25 08:13:56 WARN TaskSetManager: Stage 1033 contains a task of very large size (2005 KiB). The maximum recommended task size is 1000 KiB.\n"
     ]
    },
    {
     "name": "stdout",
     "output_type": "stream",
     "text": [
      "Parameters: Rank=10, Iteration=12, Lambda=0.01\n",
      "RMSE: 7.903155873467477, MSE: 62.45987276032348\n",
      "---------------------------------------------\n"
     ]
    },
    {
     "name": "stderr",
     "output_type": "stream",
     "text": [
      "25/06/25 08:14:00 WARN TaskSetManager: Stage 1136 contains a task of very large size (2005 KiB). The maximum recommended task size is 1000 KiB.\n",
      "25/06/25 08:14:02 WARN TaskSetManager: Stage 1195 contains a task of very large size (2005 KiB). The maximum recommended task size is 1000 KiB.\n",
      "                                                                                "
     ]
    },
    {
     "name": "stdout",
     "output_type": "stream",
     "text": [
      "Parameters: Rank=10, Iteration=12, Lambda=0.1\n",
      "RMSE: 4.101123326134225, MSE: 16.819212536162247\n",
      "---------------------------------------------\n"
     ]
    },
    {
     "name": "stderr",
     "output_type": "stream",
     "text": [
      "25/06/25 08:14:04 WARN TaskSetManager: Stage 1254 contains a task of very large size (2005 KiB). The maximum recommended task size is 1000 KiB.\n",
      "25/06/25 08:14:08 WARN TaskSetManager: Stage 1369 contains a task of very large size (2005 KiB). The maximum recommended task size is 1000 KiB.\n",
      "25/06/25 08:14:10 WARN TaskSetManager: Stage 1434 contains a task of very large size (2005 KiB). The maximum recommended task size is 1000 KiB.\n",
      "                                                                                "
     ]
    },
    {
     "name": "stdout",
     "output_type": "stream",
     "text": [
      "Parameters: Rank=10, Iteration=15, Lambda=0.01\n",
      "RMSE: 7.34717291131467, MSE: 53.98094978875609\n",
      "---------------------------------------------\n"
     ]
    },
    {
     "name": "stderr",
     "output_type": "stream",
     "text": [
      "25/06/25 08:14:12 WARN TaskSetManager: Stage 1537 contains a task of very large size (2005 KiB). The maximum recommended task size is 1000 KiB.\n",
      "25/06/25 08:14:16 WARN TaskSetManager: Stage 1652 contains a task of very large size (2005 KiB). The maximum recommended task size is 1000 KiB.\n",
      "25/06/25 08:14:18 WARN TaskSetManager: Stage 1717 contains a task of very large size (2005 KiB). The maximum recommended task size is 1000 KiB.\n",
      "                                                                                "
     ]
    },
    {
     "name": "stdout",
     "output_type": "stream",
     "text": [
      "Parameters: Rank=10, Iteration=15, Lambda=0.1\n",
      "RMSE: 3.7657576206118395, MSE: 14.180930457196142\n",
      "---------------------------------------------\n"
     ]
    },
    {
     "name": "stderr",
     "output_type": "stream",
     "text": [
      "25/06/25 08:14:19 WARN TaskSetManager: Stage 1782 contains a task of very large size (2005 KiB). The maximum recommended task size is 1000 KiB.\n",
      "25/06/25 08:14:28 WARN TaskSetManager: Stage 1877 contains a task of very large size (2005 KiB). The maximum recommended task size is 1000 KiB.\n",
      "25/06/25 08:14:31 WARN TaskSetManager: Stage 1967 contains a task of very large size (2005 KiB). The maximum recommended task size is 1000 KiB.\n",
      "                                                                                "
     ]
    },
    {
     "name": "stdout",
     "output_type": "stream",
     "text": [
      "Parameters: Rank=50, Iteration=10, Lambda=0.01\n",
      "RMSE: 6.11182900202621, MSE: 37.354453750008695\n",
      "---------------------------------------------\n"
     ]
    },
    {
     "name": "stderr",
     "output_type": "stream",
     "text": [
      "25/06/25 08:14:33 WARN TaskSetManager: Stage 2057 contains a task of very large size (2005 KiB). The maximum recommended task size is 1000 KiB.\n",
      "25/06/25 08:14:42 WARN TaskSetManager: Stage 2152 contains a task of very large size (2005 KiB). The maximum recommended task size is 1000 KiB.\n",
      "25/06/25 08:14:45 WARN TaskSetManager: Stage 2242 contains a task of very large size (2005 KiB). The maximum recommended task size is 1000 KiB.\n",
      "                                                                                "
     ]
    },
    {
     "name": "stdout",
     "output_type": "stream",
     "text": [
      "Parameters: Rank=50, Iteration=10, Lambda=0.1\n",
      "RMSE: 3.858451310919377, MSE: 14.887646518735458\n",
      "---------------------------------------------\n"
     ]
    },
    {
     "name": "stderr",
     "output_type": "stream",
     "text": [
      "25/06/25 08:14:47 WARN TaskSetManager: Stage 2332 contains a task of very large size (2005 KiB). The maximum recommended task size is 1000 KiB.\n",
      "25/06/25 08:14:57 WARN TaskSetManager: Stage 2435 contains a task of very large size (2005 KiB). The maximum recommended task size is 1000 KiB.\n",
      "25/06/25 08:15:00 WARN TaskSetManager: Stage 2533 contains a task of very large size (2005 KiB). The maximum recommended task size is 1000 KiB.\n",
      "                                                                                "
     ]
    },
    {
     "name": "stdout",
     "output_type": "stream",
     "text": [
      "Parameters: Rank=50, Iteration=12, Lambda=0.01\n",
      "RMSE: 5.852344289700805, MSE: 34.249933685193625\n",
      "---------------------------------------------\n"
     ]
    },
    {
     "name": "stderr",
     "output_type": "stream",
     "text": [
      "25/06/25 08:15:03 WARN TaskSetManager: Stage 2631 contains a task of very large size (2005 KiB). The maximum recommended task size is 1000 KiB.\n",
      "25/06/25 08:15:14 WARN TaskSetManager: Stage 2734 contains a task of very large size (2005 KiB). The maximum recommended task size is 1000 KiB.\n",
      "25/06/25 08:15:17 WARN TaskSetManager: Stage 2832 contains a task of very large size (2005 KiB). The maximum recommended task size is 1000 KiB.\n",
      "                                                                                "
     ]
    },
    {
     "name": "stdout",
     "output_type": "stream",
     "text": [
      "Parameters: Rank=50, Iteration=12, Lambda=0.1\n",
      "RMSE: 3.6153678801293214, MSE: 13.070884908670784\n",
      "---------------------------------------------\n"
     ]
    },
    {
     "name": "stderr",
     "output_type": "stream",
     "text": [
      "25/06/25 08:15:19 WARN TaskSetManager: Stage 2930 contains a task of very large size (2005 KiB). The maximum recommended task size is 1000 KiB.\n",
      "25/06/25 08:15:32 WARN TaskSetManager: Stage 3045 contains a task of very large size (2005 KiB). The maximum recommended task size is 1000 KiB.\n",
      "25/06/25 08:15:36 WARN TaskSetManager: Stage 3155 contains a task of very large size (2005 KiB). The maximum recommended task size is 1000 KiB.\n",
      "                                                                                "
     ]
    },
    {
     "name": "stdout",
     "output_type": "stream",
     "text": [
      "Parameters: Rank=50, Iteration=15, Lambda=0.01\n",
      "RMSE: 5.532574203699046, MSE: 30.60937731943614\n",
      "---------------------------------------------\n"
     ]
    },
    {
     "name": "stderr",
     "output_type": "stream",
     "text": [
      "25/06/25 08:15:39 WARN TaskSetManager: Stage 3265 contains a task of very large size (2005 KiB). The maximum recommended task size is 1000 KiB.\n",
      "25/06/25 08:15:52 WARN TaskSetManager: Stage 3380 contains a task of very large size (2005 KiB). The maximum recommended task size is 1000 KiB.\n",
      "25/06/25 08:15:55 WARN TaskSetManager: Stage 3490 contains a task of very large size (2005 KiB). The maximum recommended task size is 1000 KiB.\n",
      "                                                                                "
     ]
    },
    {
     "name": "stdout",
     "output_type": "stream",
     "text": [
      "Parameters: Rank=50, Iteration=15, Lambda=0.1\n",
      "RMSE: 3.3734810883516944, MSE: 11.380374653466532\n",
      "---------------------------------------------\n"
     ]
    },
    {
     "name": "stderr",
     "output_type": "stream",
     "text": [
      "25/06/25 08:15:57 WARN TaskSetManager: Stage 3600 contains a task of very large size (2005 KiB). The maximum recommended task size is 1000 KiB.\n",
      "25/06/25 08:19:40 WARN TaskSetManager: Stage 3695 contains a task of very large size (2005 KiB). The maximum recommended task size is 1000 KiB.\n",
      "25/06/25 08:19:44 WARN TaskSetManager: Stage 3823 contains a task of very large size (2005 KiB). The maximum recommended task size is 1000 KiB.\n",
      "25/06/25 08:19:48 WARN TaskSetManager: Stage 3951 contains a task of very large size (2005 KiB). The maximum recommended task size is 1000 KiB.\n"
     ]
    },
    {
     "name": "stdout",
     "output_type": "stream",
     "text": [
      "Parameters: Rank=200, Iteration=10, Lambda=0.01\n",
      "RMSE: 5.8415120152190605, MSE: 34.12326262394865\n",
      "---------------------------------------------\n"
     ]
    },
    {
     "name": "stderr",
     "output_type": "stream",
     "text": [
      "25/06/25 08:23:28 WARN TaskSetManager: Stage 4046 contains a task of very large size (2005 KiB). The maximum recommended task size is 1000 KiB.\n",
      "25/06/25 08:23:32 WARN TaskSetManager: Stage 4174 contains a task of very large size (2005 KiB). The maximum recommended task size is 1000 KiB.\n",
      "                                                                                "
     ]
    },
    {
     "name": "stdout",
     "output_type": "stream",
     "text": [
      "Parameters: Rank=200, Iteration=10, Lambda=0.1\n",
      "RMSE: 3.6908175417845146, MSE: 13.622134126744289\n",
      "---------------------------------------------\n"
     ]
    },
    {
     "name": "stderr",
     "output_type": "stream",
     "text": [
      "25/06/25 08:23:35 WARN TaskSetManager: Stage 4302 contains a task of very large size (2005 KiB). The maximum recommended task size is 1000 KiB.\n",
      "25/06/25 08:27:58 WARN TaskSetManager: Stage 4405 contains a task of very large size (2005 KiB). The maximum recommended task size is 1000 KiB.\n",
      "25/06/25 08:28:02 WARN TaskSetManager: Stage 4545 contains a task of very large size (2005 KiB). The maximum recommended task size is 1000 KiB.\n",
      "25/06/25 08:28:06 WARN TaskSetManager: Stage 4685 contains a task of very large size (2005 KiB). The maximum recommended task size is 1000 KiB.\n"
     ]
    },
    {
     "name": "stdout",
     "output_type": "stream",
     "text": [
      "Parameters: Rank=200, Iteration=12, Lambda=0.01\n",
      "RMSE: 5.604447314015134, MSE: 31.409829695571457\n",
      "---------------------------------------------\n"
     ]
    },
    {
     "name": "stderr",
     "output_type": "stream",
     "text": [
      "25/06/25 08:32:29 WARN TaskSetManager: Stage 4788 contains a task of very large size (2005 KiB). The maximum recommended task size is 1000 KiB.\n",
      "25/06/25 08:32:33 WARN TaskSetManager: Stage 4928 contains a task of very large size (2005 KiB). The maximum recommended task size is 1000 KiB.\n",
      "                                                                                "
     ]
    },
    {
     "name": "stdout",
     "output_type": "stream",
     "text": [
      "Parameters: Rank=200, Iteration=12, Lambda=0.1\n",
      "RMSE: 3.483850960766041, MSE: 12.137217516830464\n",
      "---------------------------------------------\n"
     ]
    },
    {
     "name": "stderr",
     "output_type": "stream",
     "text": [
      "25/06/25 08:32:36 WARN TaskSetManager: Stage 5068 contains a task of very large size (2005 KiB). The maximum recommended task size is 1000 KiB.\n",
      "25/06/25 08:38:02 WARN TaskSetManager: Stage 5183 contains a task of very large size (2005 KiB). The maximum recommended task size is 1000 KiB.\n",
      "25/06/25 08:38:07 WARN TaskSetManager: Stage 5341 contains a task of very large size (2005 KiB). The maximum recommended task size is 1000 KiB.\n",
      "25/06/25 08:38:10 WARN TaskSetManager: Stage 5499 contains a task of very large size (2005 KiB). The maximum recommended task size is 1000 KiB.\n"
     ]
    },
    {
     "name": "stdout",
     "output_type": "stream",
     "text": [
      "Parameters: Rank=200, Iteration=15, Lambda=0.01\n",
      "RMSE: 5.312558292110747, MSE: 28.22327560707466\n",
      "---------------------------------------------\n"
     ]
    },
    {
     "name": "stderr",
     "output_type": "stream",
     "text": [
      "25/06/25 08:40:14 ERROR DiskBlockObjectWriter: Exception occurred while manually close the output stream to file /tmp/blockmgr-4b6e77ed-bda1-403c-a32f-532c42d05f43/34/temp_shuffle_0e35fa68-57a4-4e63-b69a-da7c4c03f618, No space left on device\n",
      "25/06/25 08:40:14 WARN DiskBlockObjectWriter: Error deleting /tmp/blockmgr-4b6e77ed-bda1-403c-a32f-532c42d05f43/3d/temp_shuffle_7ca524ac-c828-4d5f-ab72-0aa510ac3012\n",
      "25/06/25 08:40:14 WARN DiskBlockObjectWriter: Error deleting /tmp/blockmgr-4b6e77ed-bda1-403c-a32f-532c42d05f43/0d/temp_shuffle_14db32eb-3c22-44e8-ae72-903a8e00c7fa\n",
      "25/06/25 08:40:14 WARN DiskBlockObjectWriter: Error deleting /tmp/blockmgr-4b6e77ed-bda1-403c-a32f-532c42d05f43/3f/temp_shuffle_89a10e56-0941-415e-bd97-73d277857ba1\n",
      "25/06/25 08:40:14 WARN DiskBlockObjectWriter: Error deleting /tmp/blockmgr-4b6e77ed-bda1-403c-a32f-532c42d05f43/25/temp_shuffle_d817f635-fa0b-4722-8b40-923ff627ece4\n",
      "25/06/25 08:40:14 WARN DiskBlockObjectWriter: Error deleting /tmp/blockmgr-4b6e77ed-bda1-403c-a32f-532c42d05f43/05/temp_shuffle_3d9b05c0-28db-406e-82fd-ef05cb0cb1c5\n",
      "25/06/25 08:40:14 WARN DiskBlockObjectWriter: Error deleting /tmp/blockmgr-4b6e77ed-bda1-403c-a32f-532c42d05f43/16/temp_shuffle_2cf2e611-721f-4a48-83bd-003bbd024db2\n",
      "25/06/25 08:40:14 WARN DiskBlockObjectWriter: Error deleting /tmp/blockmgr-4b6e77ed-bda1-403c-a32f-532c42d05f43/25/temp_shuffle_c3bb9b0c-3133-48c8-9096-12fc265a8c20\n",
      "25/06/25 08:40:14 ERROR Executor: Exception in task 2.0 in stage 5554.0 (TID 10953)\n",
      "java.io.IOException: No space left on device\n",
      "\tat java.base/java.io.FileOutputStream.writeBytes(Native Method)\n",
      "\tat java.base/java.io.FileOutputStream.write(FileOutputStream.java:354)\n",
      "\tat org.apache.spark.storage.TimeTrackingOutputStream.write(TimeTrackingOutputStream.java:59)\n",
      "\tat org.apache.spark.io.MutableCheckedOutputStream.write(MutableCheckedOutputStream.scala:43)\n",
      "\tat java.base/java.io.BufferedOutputStream.flushBuffer(BufferedOutputStream.java:81)\n",
      "\tat java.base/java.io.BufferedOutputStream.write(BufferedOutputStream.java:127)\n",
      "\tat net.jpountz.lz4.LZ4BlockOutputStream.flushBufferedData(LZ4BlockOutputStream.java:225)\n",
      "\tat net.jpountz.lz4.LZ4BlockOutputStream.write(LZ4BlockOutputStream.java:178)\n",
      "\tat java.base/java.io.ObjectOutputStream$BlockDataOutputStream.drain(ObjectOutputStream.java:1873)\n",
      "\tat java.base/java.io.ObjectOutputStream$BlockDataOutputStream.writeByte(ObjectOutputStream.java:1911)\n",
      "\tat java.base/java.io.ObjectOutputStream.writeFatalException(ObjectOutputStream.java:1572)\n",
      "\tat java.base/java.io.ObjectOutputStream.writeObject(ObjectOutputStream.java:348)\n",
      "\tat org.apache.spark.serializer.JavaSerializationStream.writeObject(JavaSerializer.scala:46)\n",
      "\tat org.apache.spark.serializer.SerializationStream.writeValue(Serializer.scala:134)\n",
      "\tat org.apache.spark.storage.DiskBlockObjectWriter.write(DiskBlockObjectWriter.scala:312)\n",
      "\tat org.apache.spark.shuffle.sort.BypassMergeSortShuffleWriter.write(BypassMergeSortShuffleWriter.java:171)\n",
      "\tat org.apache.spark.shuffle.ShuffleWriteProcessor.write(ShuffleWriteProcessor.scala:59)\n",
      "\tat org.apache.spark.scheduler.ShuffleMapTask.runTask(ShuffleMapTask.scala:104)\n",
      "\tat org.apache.spark.scheduler.ShuffleMapTask.runTask(ShuffleMapTask.scala:54)\n",
      "\tat org.apache.spark.TaskContext.runTaskWithListeners(TaskContext.scala:161)\n",
      "\tat org.apache.spark.scheduler.Task.run(Task.scala:141)\n",
      "\tat org.apache.spark.executor.Executor$TaskRunner.$anonfun$run$4(Executor.scala:620)\n",
      "\tat org.apache.spark.util.SparkErrorUtils.tryWithSafeFinally(SparkErrorUtils.scala:64)\n",
      "\tat org.apache.spark.util.SparkErrorUtils.tryWithSafeFinally$(SparkErrorUtils.scala:61)\n",
      "\tat org.apache.spark.util.Utils$.tryWithSafeFinally(Utils.scala:94)\n",
      "\tat org.apache.spark.executor.Executor$TaskRunner.run(Executor.scala:623)\n",
      "\tat java.base/java.util.concurrent.ThreadPoolExecutor.runWorker(ThreadPoolExecutor.java:1128)\n",
      "\tat java.base/java.util.concurrent.ThreadPoolExecutor$Worker.run(ThreadPoolExecutor.java:628)\n",
      "\tat java.base/java.lang.Thread.run(Thread.java:829)\n",
      "25/06/25 08:40:14 WARN TaskSetManager: Lost task 2.0 in stage 5554.0 (TID 10953) (cc8e4878de29 executor driver): java.io.IOException: No space left on device\n",
      "\tat java.base/java.io.FileOutputStream.writeBytes(Native Method)\n",
      "\tat java.base/java.io.FileOutputStream.write(FileOutputStream.java:354)\n",
      "\tat org.apache.spark.storage.TimeTrackingOutputStream.write(TimeTrackingOutputStream.java:59)\n",
      "\tat org.apache.spark.io.MutableCheckedOutputStream.write(MutableCheckedOutputStream.scala:43)\n",
      "\tat java.base/java.io.BufferedOutputStream.flushBuffer(BufferedOutputStream.java:81)\n",
      "\tat java.base/java.io.BufferedOutputStream.write(BufferedOutputStream.java:127)\n",
      "\tat net.jpountz.lz4.LZ4BlockOutputStream.flushBufferedData(LZ4BlockOutputStream.java:225)\n",
      "\tat net.jpountz.lz4.LZ4BlockOutputStream.write(LZ4BlockOutputStream.java:178)\n",
      "\tat java.base/java.io.ObjectOutputStream$BlockDataOutputStream.drain(ObjectOutputStream.java:1873)\n",
      "\tat java.base/java.io.ObjectOutputStream$BlockDataOutputStream.writeByte(ObjectOutputStream.java:1911)\n",
      "\tat java.base/java.io.ObjectOutputStream.writeFatalException(ObjectOutputStream.java:1572)\n",
      "\tat java.base/java.io.ObjectOutputStream.writeObject(ObjectOutputStream.java:348)\n",
      "\tat org.apache.spark.serializer.JavaSerializationStream.writeObject(JavaSerializer.scala:46)\n",
      "\tat org.apache.spark.serializer.SerializationStream.writeValue(Serializer.scala:134)\n",
      "\tat org.apache.spark.storage.DiskBlockObjectWriter.write(DiskBlockObjectWriter.scala:312)\n",
      "\tat org.apache.spark.shuffle.sort.BypassMergeSortShuffleWriter.write(BypassMergeSortShuffleWriter.java:171)\n",
      "\tat org.apache.spark.shuffle.ShuffleWriteProcessor.write(ShuffleWriteProcessor.scala:59)\n",
      "\tat org.apache.spark.scheduler.ShuffleMapTask.runTask(ShuffleMapTask.scala:104)\n",
      "\tat org.apache.spark.scheduler.ShuffleMapTask.runTask(ShuffleMapTask.scala:54)\n",
      "\tat org.apache.spark.TaskContext.runTaskWithListeners(TaskContext.scala:161)\n",
      "\tat org.apache.spark.scheduler.Task.run(Task.scala:141)\n",
      "\tat org.apache.spark.executor.Executor$TaskRunner.$anonfun$run$4(Executor.scala:620)\n",
      "\tat org.apache.spark.util.SparkErrorUtils.tryWithSafeFinally(SparkErrorUtils.scala:64)\n",
      "\tat org.apache.spark.util.SparkErrorUtils.tryWithSafeFinally$(SparkErrorUtils.scala:61)\n",
      "\tat org.apache.spark.util.Utils$.tryWithSafeFinally(Utils.scala:94)\n",
      "\tat org.apache.spark.executor.Executor$TaskRunner.run(Executor.scala:623)\n",
      "\tat java.base/java.util.concurrent.ThreadPoolExecutor.runWorker(ThreadPoolExecutor.java:1128)\n",
      "\tat java.base/java.util.concurrent.ThreadPoolExecutor$Worker.run(ThreadPoolExecutor.java:628)\n",
      "\tat java.base/java.lang.Thread.run(Thread.java:829)\n",
      "\n",
      "25/06/25 08:40:14 ERROR TaskSetManager: Task 2 in stage 5554.0 failed 1 times; aborting job\n",
      "25/06/25 08:40:14 ERROR Instrumentation: org.apache.spark.SparkException: Job aborted due to stage failure: Task 2 in stage 5554.0 failed 1 times, most recent failure: Lost task 2.0 in stage 5554.0 (TID 10953) (cc8e4878de29 executor driver): java.io.IOException: No space left on device\n",
      "\tat java.base/java.io.FileOutputStream.writeBytes(Native Method)\n",
      "\tat java.base/java.io.FileOutputStream.write(FileOutputStream.java:354)\n",
      "\tat org.apache.spark.storage.TimeTrackingOutputStream.write(TimeTrackingOutputStream.java:59)\n",
      "\tat org.apache.spark.io.MutableCheckedOutputStream.write(MutableCheckedOutputStream.scala:43)\n",
      "\tat java.base/java.io.BufferedOutputStream.flushBuffer(BufferedOutputStream.java:81)\n",
      "\tat java.base/java.io.BufferedOutputStream.write(BufferedOutputStream.java:127)\n",
      "\tat net.jpountz.lz4.LZ4BlockOutputStream.flushBufferedData(LZ4BlockOutputStream.java:225)\n",
      "\tat net.jpountz.lz4.LZ4BlockOutputStream.write(LZ4BlockOutputStream.java:178)\n",
      "\tat java.base/java.io.ObjectOutputStream$BlockDataOutputStream.drain(ObjectOutputStream.java:1873)\n",
      "\tat java.base/java.io.ObjectOutputStream$BlockDataOutputStream.writeByte(ObjectOutputStream.java:1911)\n",
      "\tat java.base/java.io.ObjectOutputStream.writeFatalException(ObjectOutputStream.java:1572)\n",
      "\tat java.base/java.io.ObjectOutputStream.writeObject(ObjectOutputStream.java:348)\n",
      "\tat org.apache.spark.serializer.JavaSerializationStream.writeObject(JavaSerializer.scala:46)\n",
      "\tat org.apache.spark.serializer.SerializationStream.writeValue(Serializer.scala:134)\n",
      "\tat org.apache.spark.storage.DiskBlockObjectWriter.write(DiskBlockObjectWriter.scala:312)\n",
      "\tat org.apache.spark.shuffle.sort.BypassMergeSortShuffleWriter.write(BypassMergeSortShuffleWriter.java:171)\n",
      "\tat org.apache.spark.shuffle.ShuffleWriteProcessor.write(ShuffleWriteProcessor.scala:59)\n",
      "\tat org.apache.spark.scheduler.ShuffleMapTask.runTask(ShuffleMapTask.scala:104)\n",
      "\tat org.apache.spark.scheduler.ShuffleMapTask.runTask(ShuffleMapTask.scala:54)\n",
      "\tat org.apache.spark.TaskContext.runTaskWithListeners(TaskContext.scala:161)\n",
      "\tat org.apache.spark.scheduler.Task.run(Task.scala:141)\n",
      "\tat org.apache.spark.executor.Executor$TaskRunner.$anonfun$run$4(Executor.scala:620)\n",
      "\tat org.apache.spark.util.SparkErrorUtils.tryWithSafeFinally(SparkErrorUtils.scala:64)\n",
      "\tat org.apache.spark.util.SparkErrorUtils.tryWithSafeFinally$(SparkErrorUtils.scala:61)\n",
      "\tat org.apache.spark.util.Utils$.tryWithSafeFinally(Utils.scala:94)\n",
      "\tat org.apache.spark.executor.Executor$TaskRunner.run(Executor.scala:623)\n",
      "\tat java.base/java.util.concurrent.ThreadPoolExecutor.runWorker(ThreadPoolExecutor.java:1128)\n",
      "\tat java.base/java.util.concurrent.ThreadPoolExecutor$Worker.run(ThreadPoolExecutor.java:628)\n",
      "\tat java.base/java.lang.Thread.run(Thread.java:829)\n",
      "\n",
      "Driver stacktrace:\n",
      "\tat org.apache.spark.scheduler.DAGScheduler.failJobAndIndependentStages(DAGScheduler.scala:2844)\n",
      "\tat org.apache.spark.scheduler.DAGScheduler.$anonfun$abortStage$2(DAGScheduler.scala:2780)\n",
      "\tat org.apache.spark.scheduler.DAGScheduler.$anonfun$abortStage$2$adapted(DAGScheduler.scala:2779)\n",
      "\tat scala.collection.mutable.ResizableArray.foreach(ResizableArray.scala:62)\n",
      "\tat scala.collection.mutable.ResizableArray.foreach$(ResizableArray.scala:55)\n",
      "\tat scala.collection.mutable.ArrayBuffer.foreach(ArrayBuffer.scala:49)\n",
      "\tat org.apache.spark.scheduler.DAGScheduler.abortStage(DAGScheduler.scala:2779)\n",
      "\tat org.apache.spark.scheduler.DAGScheduler.$anonfun$handleTaskSetFailed$1(DAGScheduler.scala:1242)\n",
      "\tat org.apache.spark.scheduler.DAGScheduler.$anonfun$handleTaskSetFailed$1$adapted(DAGScheduler.scala:1242)\n",
      "\tat scala.Option.foreach(Option.scala:407)\n",
      "\tat org.apache.spark.scheduler.DAGScheduler.handleTaskSetFailed(DAGScheduler.scala:1242)\n",
      "\tat org.apache.spark.scheduler.DAGSchedulerEventProcessLoop.doOnReceive(DAGScheduler.scala:3048)\n",
      "\tat org.apache.spark.scheduler.DAGSchedulerEventProcessLoop.onReceive(DAGScheduler.scala:2982)\n",
      "\tat org.apache.spark.scheduler.DAGSchedulerEventProcessLoop.onReceive(DAGScheduler.scala:2971)\n",
      "\tat org.apache.spark.util.EventLoop$$anon$1.run(EventLoop.scala:49)\n",
      "\tat org.apache.spark.scheduler.DAGScheduler.runJob(DAGScheduler.scala:984)\n",
      "\tat org.apache.spark.SparkContext.runJob(SparkContext.scala:2398)\n",
      "\tat org.apache.spark.SparkContext.runJob(SparkContext.scala:2419)\n",
      "\tat org.apache.spark.SparkContext.runJob(SparkContext.scala:2438)\n",
      "\tat org.apache.spark.SparkContext.runJob(SparkContext.scala:2463)\n",
      "\tat org.apache.spark.rdd.RDD.count(RDD.scala:1293)\n",
      "\tat org.apache.spark.ml.recommendation.ALS$.train(ALS.scala:1090)\n",
      "\tat org.apache.spark.ml.recommendation.ALS.$anonfun$fit$1(ALS.scala:737)\n",
      "\tat org.apache.spark.ml.util.Instrumentation$.$anonfun$instrumented$1(Instrumentation.scala:191)\n",
      "\tat scala.util.Try$.apply(Try.scala:213)\n",
      "\tat org.apache.spark.ml.util.Instrumentation$.instrumented(Instrumentation.scala:191)\n",
      "\tat org.apache.spark.ml.recommendation.ALS.fit(ALS.scala:714)\n",
      "\tat org.apache.spark.ml.recommendation.ALS.fit(ALS.scala:616)\n",
      "\tat jdk.internal.reflect.GeneratedMethodAccessor1550.invoke(Unknown Source)\n",
      "\tat java.base/jdk.internal.reflect.DelegatingMethodAccessorImpl.invoke(DelegatingMethodAccessorImpl.java:43)\n",
      "\tat java.base/java.lang.reflect.Method.invoke(Method.java:566)\n",
      "\tat py4j.reflection.MethodInvoker.invoke(MethodInvoker.java:244)\n",
      "\tat py4j.reflection.ReflectionEngine.invoke(ReflectionEngine.java:374)\n",
      "\tat py4j.Gateway.invoke(Gateway.java:282)\n",
      "\tat py4j.commands.AbstractCommand.invokeMethod(AbstractCommand.java:132)\n",
      "\tat py4j.commands.CallCommand.execute(CallCommand.java:79)\n",
      "\tat py4j.ClientServerConnection.waitForCommands(ClientServerConnection.java:182)\n",
      "\tat py4j.ClientServerConnection.run(ClientServerConnection.java:106)\n",
      "\tat java.base/java.lang.Thread.run(Thread.java:829)\n",
      "Caused by: java.io.IOException: No space left on device\n",
      "\tat java.base/java.io.FileOutputStream.writeBytes(Native Method)\n",
      "\tat java.base/java.io.FileOutputStream.write(FileOutputStream.java:354)\n",
      "\tat org.apache.spark.storage.TimeTrackingOutputStream.write(TimeTrackingOutputStream.java:59)\n",
      "\tat org.apache.spark.io.MutableCheckedOutputStream.write(MutableCheckedOutputStream.scala:43)\n",
      "\tat java.base/java.io.BufferedOutputStream.flushBuffer(BufferedOutputStream.java:81)\n",
      "\tat java.base/java.io.BufferedOutputStream.write(BufferedOutputStream.java:127)\n",
      "\tat net.jpountz.lz4.LZ4BlockOutputStream.flushBufferedData(LZ4BlockOutputStream.java:225)\n",
      "\tat net.jpountz.lz4.LZ4BlockOutputStream.write(LZ4BlockOutputStream.java:178)\n",
      "\tat java.base/java.io.ObjectOutputStream$BlockDataOutputStream.drain(ObjectOutputStream.java:1873)\n",
      "\tat java.base/java.io.ObjectOutputStream$BlockDataOutputStream.writeByte(ObjectOutputStream.java:1911)\n",
      "\tat java.base/java.io.ObjectOutputStream.writeFatalException(ObjectOutputStream.java:1572)\n",
      "\tat java.base/java.io.ObjectOutputStream.writeObject(ObjectOutputStream.java:348)\n",
      "\tat org.apache.spark.serializer.JavaSerializationStream.writeObject(JavaSerializer.scala:46)\n",
      "\tat org.apache.spark.serializer.SerializationStream.writeValue(Serializer.scala:134)\n",
      "\tat org.apache.spark.storage.DiskBlockObjectWriter.write(DiskBlockObjectWriter.scala:312)\n",
      "\tat org.apache.spark.shuffle.sort.BypassMergeSortShuffleWriter.write(BypassMergeSortShuffleWriter.java:171)\n",
      "\tat org.apache.spark.shuffle.ShuffleWriteProcessor.write(ShuffleWriteProcessor.scala:59)\n",
      "\tat org.apache.spark.scheduler.ShuffleMapTask.runTask(ShuffleMapTask.scala:104)\n",
      "\tat org.apache.spark.scheduler.ShuffleMapTask.runTask(ShuffleMapTask.scala:54)\n",
      "\tat org.apache.spark.TaskContext.runTaskWithListeners(TaskContext.scala:161)\n",
      "\tat org.apache.spark.scheduler.Task.run(Task.scala:141)\n",
      "\tat org.apache.spark.executor.Executor$TaskRunner.$anonfun$run$4(Executor.scala:620)\n",
      "\tat org.apache.spark.util.SparkErrorUtils.tryWithSafeFinally(SparkErrorUtils.scala:64)\n",
      "\tat org.apache.spark.util.SparkErrorUtils.tryWithSafeFinally$(SparkErrorUtils.scala:61)\n",
      "\tat org.apache.spark.util.Utils$.tryWithSafeFinally(Utils.scala:94)\n",
      "\tat org.apache.spark.executor.Executor$TaskRunner.run(Executor.scala:623)\n",
      "\tat java.base/java.util.concurrent.ThreadPoolExecutor.runWorker(ThreadPoolExecutor.java:1128)\n",
      "\tat java.base/java.util.concurrent.ThreadPoolExecutor$Worker.run(ThreadPoolExecutor.java:628)\n",
      "\t... 1 more\n",
      "\n",
      "25/06/25 08:40:14 WARN TaskSetManager: Lost task 9.0 in stage 5554.0 (TID 10960) (cc8e4878de29 executor driver): TaskKilled (Stage cancelled: Job aborted due to stage failure: Task 2 in stage 5554.0 failed 1 times, most recent failure: Lost task 2.0 in stage 5554.0 (TID 10953) (cc8e4878de29 executor driver): java.io.IOException: No space left on device\n",
      "\tat java.base/java.io.FileOutputStream.writeBytes(Native Method)\n",
      "\tat java.base/java.io.FileOutputStream.write(FileOutputStream.java:354)\n",
      "\tat org.apache.spark.storage.TimeTrackingOutputStream.write(TimeTrackingOutputStream.java:59)\n",
      "\tat org.apache.spark.io.MutableCheckedOutputStream.write(MutableCheckedOutputStream.scala:43)\n",
      "\tat java.base/java.io.BufferedOutputStream.flushBuffer(BufferedOutputStream.java:81)\n",
      "\tat java.base/java.io.BufferedOutputStream.write(BufferedOutputStream.java:127)\n",
      "\tat net.jpountz.lz4.LZ4BlockOutputStream.flushBufferedData(LZ4BlockOutputStream.java:225)\n",
      "\tat net.jpountz.lz4.LZ4BlockOutputStream.write(LZ4BlockOutputStream.java:178)\n",
      "\tat java.base/java.io.ObjectOutputStream$BlockDataOutputStream.drain(ObjectOutputStream.java:1873)\n",
      "\tat java.base/java.io.ObjectOutputStream$BlockDataOutputStream.writeByte(ObjectOutputStream.java:1911)\n",
      "\tat java.base/java.io.ObjectOutputStream.writeFatalException(ObjectOutputStream.java:1572)\n",
      "\tat java.base/java.io.ObjectOutputStream.writeObject(ObjectOutputStream.java:348)\n",
      "\tat org.apache.spark.serializer.JavaSerializationStream.writeObject(JavaSerializer.scala:46)\n",
      "\tat org.apache.spark.serializer.SerializationStream.writeValue(Serializer.scala:134)\n",
      "\tat org.apache.spark.storage.DiskBlockObjectWriter.write(DiskBlockObjectWriter.scala:312)\n",
      "\tat org.apache.spark.shuffle.sort.BypassMergeSortShuffleWriter.write(BypassMergeSortShuffleWriter.java:171)\n",
      "\tat org.apache.spark.shuffle.ShuffleWriteProcessor.write(ShuffleWriteProcessor.scala:59)\n",
      "\tat org.apache.spark.scheduler.ShuffleMapTask.runTask(ShuffleMapTask.scala:104)\n",
      "\tat org.apache.spark.scheduler.ShuffleMapTask.runTask(ShuffleMapTask.scala:54)\n",
      "\tat org.apache.spark.TaskContext.runTaskWithListeners(TaskContext.scala:161)\n",
      "\tat org.apache.spark.scheduler.Task.run(Task.scala:141)\n",
      "\tat org.apache.spark.executor.Executor$TaskRunner.$anonfun$run$4(Executor.scala:620)\n",
      "\tat org.apache.spark.util.SparkErrorUtils.tryWithSafeFinally(SparkErrorUtils.scala:64)\n",
      "\tat org.apache.spark.util.SparkErrorUtils.tryWithSafeFinally$(SparkErrorUtils.scala:61)\n",
      "\tat org.apache.spark.util.Utils$.tryWithSafeFinally(Utils.scala:94)\n",
      "\tat org.apache.spark.executor.Executor$TaskRunner.run(Executor.scala:623)\n",
      "\tat java.base/java.util.concurrent.ThreadPoolExecutor.runWorker(ThreadPoolExecutor.java:1128)\n",
      "\tat java.base/java.util.concurrent.ThreadPoolExecutor$Worker.run(ThreadPoolExecutor.java:628)\n",
      "\tat java.base/java.lang.Thread.run(Thread.java:829)\n",
      "\n",
      "Driver stacktrace:)\n",
      "25/06/25 08:40:14 WARN TaskSetManager: Lost task 5.0 in stage 5554.0 (TID 10956) (cc8e4878de29 executor driver): TaskKilled (Stage cancelled: Job aborted due to stage failure: Task 2 in stage 5554.0 failed 1 times, most recent failure: Lost task 2.0 in stage 5554.0 (TID 10953) (cc8e4878de29 executor driver): java.io.IOException: No space left on device\n",
      "\tat java.base/java.io.FileOutputStream.writeBytes(Native Method)\n",
      "\tat java.base/java.io.FileOutputStream.write(FileOutputStream.java:354)\n",
      "\tat org.apache.spark.storage.TimeTrackingOutputStream.write(TimeTrackingOutputStream.java:59)\n",
      "\tat org.apache.spark.io.MutableCheckedOutputStream.write(MutableCheckedOutputStream.scala:43)\n",
      "\tat java.base/java.io.BufferedOutputStream.flushBuffer(BufferedOutputStream.java:81)\n",
      "\tat java.base/java.io.BufferedOutputStream.write(BufferedOutputStream.java:127)\n",
      "\tat net.jpountz.lz4.LZ4BlockOutputStream.flushBufferedData(LZ4BlockOutputStream.java:225)\n",
      "\tat net.jpountz.lz4.LZ4BlockOutputStream.write(LZ4BlockOutputStream.java:178)\n",
      "\tat java.base/java.io.ObjectOutputStream$BlockDataOutputStream.drain(ObjectOutputStream.java:1873)\n",
      "\tat java.base/java.io.ObjectOutputStream$BlockDataOutputStream.writeByte(ObjectOutputStream.java:1911)\n",
      "\tat java.base/java.io.ObjectOutputStream.writeFatalException(ObjectOutputStream.java:1572)\n",
      "\tat java.base/java.io.ObjectOutputStream.writeObject(ObjectOutputStream.java:348)\n",
      "\tat org.apache.spark.serializer.JavaSerializationStream.writeObject(JavaSerializer.scala:46)\n",
      "\tat org.apache.spark.serializer.SerializationStream.writeValue(Serializer.scala:134)\n",
      "\tat org.apache.spark.storage.DiskBlockObjectWriter.write(DiskBlockObjectWriter.scala:312)\n",
      "\tat org.apache.spark.shuffle.sort.BypassMergeSortShuffleWriter.write(BypassMergeSortShuffleWriter.java:171)\n",
      "\tat org.apache.spark.shuffle.ShuffleWriteProcessor.write(ShuffleWriteProcessor.scala:59)\n",
      "\tat org.apache.spark.scheduler.ShuffleMapTask.runTask(ShuffleMapTask.scala:104)\n",
      "\tat org.apache.spark.scheduler.ShuffleMapTask.runTask(ShuffleMapTask.scala:54)\n",
      "\tat org.apache.spark.TaskContext.runTaskWithListeners(TaskContext.scala:161)\n",
      "\tat org.apache.spark.scheduler.Task.run(Task.scala:141)\n",
      "\tat org.apache.spark.executor.Executor$TaskRunner.$anonfun$run$4(Executor.scala:620)\n",
      "\tat org.apache.spark.util.SparkErrorUtils.tryWithSafeFinally(SparkErrorUtils.scala:64)\n",
      "\tat org.apache.spark.util.SparkErrorUtils.tryWithSafeFinally$(SparkErrorUtils.scala:61)\n",
      "\tat org.apache.spark.util.Utils$.tryWithSafeFinally(Utils.scala:94)\n",
      "\tat org.apache.spark.executor.Executor$TaskRunner.run(Executor.scala:623)\n",
      "\tat java.base/java.util.concurrent.ThreadPoolExecutor.runWorker(ThreadPoolExecutor.java:1128)\n",
      "\tat java.base/java.util.concurrent.ThreadPoolExecutor$Worker.run(ThreadPoolExecutor.java:628)\n",
      "\tat java.base/java.lang.Thread.run(Thread.java:829)\n",
      "\n",
      "Driver stacktrace:)\n",
      "25/06/25 08:40:14 WARN TaskSetManager: Lost task 7.0 in stage 5554.0 (TID 10958) (cc8e4878de29 executor driver): TaskKilled (Stage cancelled: Job aborted due to stage failure: Task 2 in stage 5554.0 failed 1 times, most recent failure: Lost task 2.0 in stage 5554.0 (TID 10953) (cc8e4878de29 executor driver): java.io.IOException: No space left on device\n",
      "\tat java.base/java.io.FileOutputStream.writeBytes(Native Method)\n",
      "\tat java.base/java.io.FileOutputStream.write(FileOutputStream.java:354)\n",
      "\tat org.apache.spark.storage.TimeTrackingOutputStream.write(TimeTrackingOutputStream.java:59)\n",
      "\tat org.apache.spark.io.MutableCheckedOutputStream.write(MutableCheckedOutputStream.scala:43)\n",
      "\tat java.base/java.io.BufferedOutputStream.flushBuffer(BufferedOutputStream.java:81)\n",
      "\tat java.base/java.io.BufferedOutputStream.write(BufferedOutputStream.java:127)\n",
      "\tat net.jpountz.lz4.LZ4BlockOutputStream.flushBufferedData(LZ4BlockOutputStream.java:225)\n",
      "\tat net.jpountz.lz4.LZ4BlockOutputStream.write(LZ4BlockOutputStream.java:178)\n",
      "\tat java.base/java.io.ObjectOutputStream$BlockDataOutputStream.drain(ObjectOutputStream.java:1873)\n",
      "\tat java.base/java.io.ObjectOutputStream$BlockDataOutputStream.writeByte(ObjectOutputStream.java:1911)\n",
      "\tat java.base/java.io.ObjectOutputStream.writeFatalException(ObjectOutputStream.java:1572)\n",
      "\tat java.base/java.io.ObjectOutputStream.writeObject(ObjectOutputStream.java:348)\n",
      "\tat org.apache.spark.serializer.JavaSerializationStream.writeObject(JavaSerializer.scala:46)\n",
      "\tat org.apache.spark.serializer.SerializationStream.writeValue(Serializer.scala:134)\n",
      "\tat org.apache.spark.storage.DiskBlockObjectWriter.write(DiskBlockObjectWriter.scala:312)\n",
      "\tat org.apache.spark.shuffle.sort.BypassMergeSortShuffleWriter.write(BypassMergeSortShuffleWriter.java:171)\n",
      "\tat org.apache.spark.shuffle.ShuffleWriteProcessor.write(ShuffleWriteProcessor.scala:59)\n",
      "\tat org.apache.spark.scheduler.ShuffleMapTask.runTask(ShuffleMapTask.scala:104)\n",
      "\tat org.apache.spark.scheduler.ShuffleMapTask.runTask(ShuffleMapTask.scala:54)\n",
      "\tat org.apache.spark.TaskContext.runTaskWithListeners(TaskContext.scala:161)\n",
      "\tat org.apache.spark.scheduler.Task.run(Task.scala:141)\n",
      "\tat org.apache.spark.executor.Executor$TaskRunner.$anonfun$run$4(Executor.scala:620)\n",
      "\tat org.apache.spark.util.SparkErrorUtils.tryWithSafeFinally(SparkErrorUtils.scala:64)\n",
      "\tat org.apache.spark.util.SparkErrorUtils.tryWithSafeFinally$(SparkErrorUtils.scala:61)\n",
      "\tat org.apache.spark.util.Utils$.tryWithSafeFinally(Utils.scala:94)\n",
      "\tat org.apache.spark.executor.Executor$TaskRunner.run(Executor.scala:623)\n",
      "\tat java.base/java.util.concurrent.ThreadPoolExecutor.runWorker(ThreadPoolExecutor.java:1128)\n",
      "\tat java.base/java.util.concurrent.ThreadPoolExecutor$Worker.run(ThreadPoolExecutor.java:628)\n",
      "\tat java.base/java.lang.Thread.run(Thread.java:829)\n",
      "\n",
      "Driver stacktrace:)\n",
      "25/06/25 08:40:14 WARN TaskSetManager: Lost task 1.0 in stage 5554.0 (TID 10952) (cc8e4878de29 executor driver): TaskKilled (Stage cancelled: Job aborted due to stage failure: Task 2 in stage 5554.0 failed 1 times, most recent failure: Lost task 2.0 in stage 5554.0 (TID 10953) (cc8e4878de29 executor driver): java.io.IOException: No space left on device\n",
      "\tat java.base/java.io.FileOutputStream.writeBytes(Native Method)\n",
      "\tat java.base/java.io.FileOutputStream.write(FileOutputStream.java:354)\n",
      "\tat org.apache.spark.storage.TimeTrackingOutputStream.write(TimeTrackingOutputStream.java:59)\n",
      "\tat org.apache.spark.io.MutableCheckedOutputStream.write(MutableCheckedOutputStream.scala:43)\n",
      "\tat java.base/java.io.BufferedOutputStream.flushBuffer(BufferedOutputStream.java:81)\n",
      "\tat java.base/java.io.BufferedOutputStream.write(BufferedOutputStream.java:127)\n",
      "\tat net.jpountz.lz4.LZ4BlockOutputStream.flushBufferedData(LZ4BlockOutputStream.java:225)\n",
      "\tat net.jpountz.lz4.LZ4BlockOutputStream.write(LZ4BlockOutputStream.java:178)\n",
      "\tat java.base/java.io.ObjectOutputStream$BlockDataOutputStream.drain(ObjectOutputStream.java:1873)\n",
      "\tat java.base/java.io.ObjectOutputStream$BlockDataOutputStream.writeByte(ObjectOutputStream.java:1911)\n",
      "\tat java.base/java.io.ObjectOutputStream.writeFatalException(ObjectOutputStream.java:1572)\n",
      "\tat java.base/java.io.ObjectOutputStream.writeObject(ObjectOutputStream.java:348)\n",
      "\tat org.apache.spark.serializer.JavaSerializationStream.writeObject(JavaSerializer.scala:46)\n",
      "\tat org.apache.spark.serializer.SerializationStream.writeValue(Serializer.scala:134)\n",
      "\tat org.apache.spark.storage.DiskBlockObjectWriter.write(DiskBlockObjectWriter.scala:312)\n",
      "\tat org.apache.spark.shuffle.sort.BypassMergeSortShuffleWriter.write(BypassMergeSortShuffleWriter.java:171)\n",
      "\tat org.apache.spark.shuffle.ShuffleWriteProcessor.write(ShuffleWriteProcessor.scala:59)\n",
      "\tat org.apache.spark.scheduler.ShuffleMapTask.runTask(ShuffleMapTask.scala:104)\n",
      "\tat org.apache.spark.scheduler.ShuffleMapTask.runTask(ShuffleMapTask.scala:54)\n",
      "\tat org.apache.spark.TaskContext.runTaskWithListeners(TaskContext.scala:161)\n",
      "\tat org.apache.spark.scheduler.Task.run(Task.scala:141)\n",
      "\tat org.apache.spark.executor.Executor$TaskRunner.$anonfun$run$4(Executor.scala:620)\n",
      "\tat org.apache.spark.util.SparkErrorUtils.tryWithSafeFinally(SparkErrorUtils.scala:64)\n",
      "\tat org.apache.spark.util.SparkErrorUtils.tryWithSafeFinally$(SparkErrorUtils.scala:61)\n",
      "\tat org.apache.spark.util.Utils$.tryWithSafeFinally(Utils.scala:94)\n",
      "\tat org.apache.spark.executor.Executor$TaskRunner.run(Executor.scala:623)\n",
      "\tat java.base/java.util.concurrent.ThreadPoolExecutor.runWorker(ThreadPoolExecutor.java:1128)\n",
      "\tat java.base/java.util.concurrent.ThreadPoolExecutor$Worker.run(ThreadPoolExecutor.java:628)\n",
      "\tat java.base/java.lang.Thread.run(Thread.java:829)\n",
      "\n",
      "Driver stacktrace:)\n"
     ]
    },
    {
     "ename": "Py4JJavaError",
     "evalue": "An error occurred while calling o2566.fit.\n: org.apache.spark.SparkException: Job aborted due to stage failure: Task 2 in stage 5554.0 failed 1 times, most recent failure: Lost task 2.0 in stage 5554.0 (TID 10953) (cc8e4878de29 executor driver): java.io.IOException: No space left on device\n\tat java.base/java.io.FileOutputStream.writeBytes(Native Method)\n\tat java.base/java.io.FileOutputStream.write(FileOutputStream.java:354)\n\tat org.apache.spark.storage.TimeTrackingOutputStream.write(TimeTrackingOutputStream.java:59)\n\tat org.apache.spark.io.MutableCheckedOutputStream.write(MutableCheckedOutputStream.scala:43)\n\tat java.base/java.io.BufferedOutputStream.flushBuffer(BufferedOutputStream.java:81)\n\tat java.base/java.io.BufferedOutputStream.write(BufferedOutputStream.java:127)\n\tat net.jpountz.lz4.LZ4BlockOutputStream.flushBufferedData(LZ4BlockOutputStream.java:225)\n\tat net.jpountz.lz4.LZ4BlockOutputStream.write(LZ4BlockOutputStream.java:178)\n\tat java.base/java.io.ObjectOutputStream$BlockDataOutputStream.drain(ObjectOutputStream.java:1873)\n\tat java.base/java.io.ObjectOutputStream$BlockDataOutputStream.writeByte(ObjectOutputStream.java:1911)\n\tat java.base/java.io.ObjectOutputStream.writeFatalException(ObjectOutputStream.java:1572)\n\tat java.base/java.io.ObjectOutputStream.writeObject(ObjectOutputStream.java:348)\n\tat org.apache.spark.serializer.JavaSerializationStream.writeObject(JavaSerializer.scala:46)\n\tat org.apache.spark.serializer.SerializationStream.writeValue(Serializer.scala:134)\n\tat org.apache.spark.storage.DiskBlockObjectWriter.write(DiskBlockObjectWriter.scala:312)\n\tat org.apache.spark.shuffle.sort.BypassMergeSortShuffleWriter.write(BypassMergeSortShuffleWriter.java:171)\n\tat org.apache.spark.shuffle.ShuffleWriteProcessor.write(ShuffleWriteProcessor.scala:59)\n\tat org.apache.spark.scheduler.ShuffleMapTask.runTask(ShuffleMapTask.scala:104)\n\tat org.apache.spark.scheduler.ShuffleMapTask.runTask(ShuffleMapTask.scala:54)\n\tat org.apache.spark.TaskContext.runTaskWithListeners(TaskContext.scala:161)\n\tat org.apache.spark.scheduler.Task.run(Task.scala:141)\n\tat org.apache.spark.executor.Executor$TaskRunner.$anonfun$run$4(Executor.scala:620)\n\tat org.apache.spark.util.SparkErrorUtils.tryWithSafeFinally(SparkErrorUtils.scala:64)\n\tat org.apache.spark.util.SparkErrorUtils.tryWithSafeFinally$(SparkErrorUtils.scala:61)\n\tat org.apache.spark.util.Utils$.tryWithSafeFinally(Utils.scala:94)\n\tat org.apache.spark.executor.Executor$TaskRunner.run(Executor.scala:623)\n\tat java.base/java.util.concurrent.ThreadPoolExecutor.runWorker(ThreadPoolExecutor.java:1128)\n\tat java.base/java.util.concurrent.ThreadPoolExecutor$Worker.run(ThreadPoolExecutor.java:628)\n\tat java.base/java.lang.Thread.run(Thread.java:829)\n\nDriver stacktrace:\n\tat org.apache.spark.scheduler.DAGScheduler.failJobAndIndependentStages(DAGScheduler.scala:2844)\n\tat org.apache.spark.scheduler.DAGScheduler.$anonfun$abortStage$2(DAGScheduler.scala:2780)\n\tat org.apache.spark.scheduler.DAGScheduler.$anonfun$abortStage$2$adapted(DAGScheduler.scala:2779)\n\tat scala.collection.mutable.ResizableArray.foreach(ResizableArray.scala:62)\n\tat scala.collection.mutable.ResizableArray.foreach$(ResizableArray.scala:55)\n\tat scala.collection.mutable.ArrayBuffer.foreach(ArrayBuffer.scala:49)\n\tat org.apache.spark.scheduler.DAGScheduler.abortStage(DAGScheduler.scala:2779)\n\tat org.apache.spark.scheduler.DAGScheduler.$anonfun$handleTaskSetFailed$1(DAGScheduler.scala:1242)\n\tat org.apache.spark.scheduler.DAGScheduler.$anonfun$handleTaskSetFailed$1$adapted(DAGScheduler.scala:1242)\n\tat scala.Option.foreach(Option.scala:407)\n\tat org.apache.spark.scheduler.DAGScheduler.handleTaskSetFailed(DAGScheduler.scala:1242)\n\tat org.apache.spark.scheduler.DAGSchedulerEventProcessLoop.doOnReceive(DAGScheduler.scala:3048)\n\tat org.apache.spark.scheduler.DAGSchedulerEventProcessLoop.onReceive(DAGScheduler.scala:2982)\n\tat org.apache.spark.scheduler.DAGSchedulerEventProcessLoop.onReceive(DAGScheduler.scala:2971)\n\tat org.apache.spark.util.EventLoop$$anon$1.run(EventLoop.scala:49)\n\tat org.apache.spark.scheduler.DAGScheduler.runJob(DAGScheduler.scala:984)\n\tat org.apache.spark.SparkContext.runJob(SparkContext.scala:2398)\n\tat org.apache.spark.SparkContext.runJob(SparkContext.scala:2419)\n\tat org.apache.spark.SparkContext.runJob(SparkContext.scala:2438)\n\tat org.apache.spark.SparkContext.runJob(SparkContext.scala:2463)\n\tat org.apache.spark.rdd.RDD.count(RDD.scala:1293)\n\tat org.apache.spark.ml.recommendation.ALS$.train(ALS.scala:1090)\n\tat org.apache.spark.ml.recommendation.ALS.$anonfun$fit$1(ALS.scala:737)\n\tat org.apache.spark.ml.util.Instrumentation$.$anonfun$instrumented$1(Instrumentation.scala:191)\n\tat scala.util.Try$.apply(Try.scala:213)\n\tat org.apache.spark.ml.util.Instrumentation$.instrumented(Instrumentation.scala:191)\n\tat org.apache.spark.ml.recommendation.ALS.fit(ALS.scala:714)\n\tat org.apache.spark.ml.recommendation.ALS.fit(ALS.scala:616)\n\tat jdk.internal.reflect.GeneratedMethodAccessor1550.invoke(Unknown Source)\n\tat java.base/jdk.internal.reflect.DelegatingMethodAccessorImpl.invoke(DelegatingMethodAccessorImpl.java:43)\n\tat java.base/java.lang.reflect.Method.invoke(Method.java:566)\n\tat py4j.reflection.MethodInvoker.invoke(MethodInvoker.java:244)\n\tat py4j.reflection.ReflectionEngine.invoke(ReflectionEngine.java:374)\n\tat py4j.Gateway.invoke(Gateway.java:282)\n\tat py4j.commands.AbstractCommand.invokeMethod(AbstractCommand.java:132)\n\tat py4j.commands.CallCommand.execute(CallCommand.java:79)\n\tat py4j.ClientServerConnection.waitForCommands(ClientServerConnection.java:182)\n\tat py4j.ClientServerConnection.run(ClientServerConnection.java:106)\n\tat java.base/java.lang.Thread.run(Thread.java:829)\nCaused by: java.io.IOException: No space left on device\n\tat java.base/java.io.FileOutputStream.writeBytes(Native Method)\n\tat java.base/java.io.FileOutputStream.write(FileOutputStream.java:354)\n\tat org.apache.spark.storage.TimeTrackingOutputStream.write(TimeTrackingOutputStream.java:59)\n\tat org.apache.spark.io.MutableCheckedOutputStream.write(MutableCheckedOutputStream.scala:43)\n\tat java.base/java.io.BufferedOutputStream.flushBuffer(BufferedOutputStream.java:81)\n\tat java.base/java.io.BufferedOutputStream.write(BufferedOutputStream.java:127)\n\tat net.jpountz.lz4.LZ4BlockOutputStream.flushBufferedData(LZ4BlockOutputStream.java:225)\n\tat net.jpountz.lz4.LZ4BlockOutputStream.write(LZ4BlockOutputStream.java:178)\n\tat java.base/java.io.ObjectOutputStream$BlockDataOutputStream.drain(ObjectOutputStream.java:1873)\n\tat java.base/java.io.ObjectOutputStream$BlockDataOutputStream.writeByte(ObjectOutputStream.java:1911)\n\tat java.base/java.io.ObjectOutputStream.writeFatalException(ObjectOutputStream.java:1572)\n\tat java.base/java.io.ObjectOutputStream.writeObject(ObjectOutputStream.java:348)\n\tat org.apache.spark.serializer.JavaSerializationStream.writeObject(JavaSerializer.scala:46)\n\tat org.apache.spark.serializer.SerializationStream.writeValue(Serializer.scala:134)\n\tat org.apache.spark.storage.DiskBlockObjectWriter.write(DiskBlockObjectWriter.scala:312)\n\tat org.apache.spark.shuffle.sort.BypassMergeSortShuffleWriter.write(BypassMergeSortShuffleWriter.java:171)\n\tat org.apache.spark.shuffle.ShuffleWriteProcessor.write(ShuffleWriteProcessor.scala:59)\n\tat org.apache.spark.scheduler.ShuffleMapTask.runTask(ShuffleMapTask.scala:104)\n\tat org.apache.spark.scheduler.ShuffleMapTask.runTask(ShuffleMapTask.scala:54)\n\tat org.apache.spark.TaskContext.runTaskWithListeners(TaskContext.scala:161)\n\tat org.apache.spark.scheduler.Task.run(Task.scala:141)\n\tat org.apache.spark.executor.Executor$TaskRunner.$anonfun$run$4(Executor.scala:620)\n\tat org.apache.spark.util.SparkErrorUtils.tryWithSafeFinally(SparkErrorUtils.scala:64)\n\tat org.apache.spark.util.SparkErrorUtils.tryWithSafeFinally$(SparkErrorUtils.scala:61)\n\tat org.apache.spark.util.Utils$.tryWithSafeFinally(Utils.scala:94)\n\tat org.apache.spark.executor.Executor$TaskRunner.run(Executor.scala:623)\n\tat java.base/java.util.concurrent.ThreadPoolExecutor.runWorker(ThreadPoolExecutor.java:1128)\n\tat java.base/java.util.concurrent.ThreadPoolExecutor$Worker.run(ThreadPoolExecutor.java:628)\n\t... 1 more\n",
     "output_type": "error",
     "traceback": [
      "\u001b[0;31m---------------------------------------------------------------------------\u001b[0m",
      "\u001b[0;31mPy4JJavaError\u001b[0m                             Traceback (most recent call last)",
      "Cell \u001b[0;32mIn[39], line 24\u001b[0m\n\u001b[1;32m     19\u001b[0m \u001b[38;5;28;01mfor\u001b[39;00m reg_param \u001b[38;5;129;01min\u001b[39;00m lambdas:\n\u001b[1;32m     20\u001b[0m     als \u001b[38;5;241m=\u001b[39m ALS(maxIter\u001b[38;5;241m=\u001b[39miteration, regParam\u001b[38;5;241m=\u001b[39mreg_param, rank\u001b[38;5;241m=\u001b[39mrank, seed\u001b[38;5;241m=\u001b[39m\u001b[38;5;241m5071\u001b[39m,\n\u001b[1;32m     21\u001b[0m               userCol\u001b[38;5;241m=\u001b[39m\u001b[38;5;124m\"\u001b[39m\u001b[38;5;124mUser-ID\u001b[39m\u001b[38;5;124m\"\u001b[39m, itemCol\u001b[38;5;241m=\u001b[39m\u001b[38;5;124m\"\u001b[39m\u001b[38;5;124mnewISBN\u001b[39m\u001b[38;5;124m\"\u001b[39m, ratingCol\u001b[38;5;241m=\u001b[39m\u001b[38;5;124m\"\u001b[39m\u001b[38;5;124mBook-Rating\u001b[39m\u001b[38;5;124m\"\u001b[39m,\n\u001b[1;32m     22\u001b[0m               coldStartStrategy\u001b[38;5;241m=\u001b[39m\u001b[38;5;124m\"\u001b[39m\u001b[38;5;124mdrop\u001b[39m\u001b[38;5;124m\"\u001b[39m)\n\u001b[0;32m---> 24\u001b[0m     model \u001b[38;5;241m=\u001b[39m \u001b[43mals\u001b[49m\u001b[38;5;241;43m.\u001b[39;49m\u001b[43mfit\u001b[49m\u001b[43m(\u001b[49m\u001b[43mtrain\u001b[49m\u001b[43m)\u001b[49m\n\u001b[1;32m     26\u001b[0m     predictions \u001b[38;5;241m=\u001b[39m model\u001b[38;5;241m.\u001b[39mtransform(test)\n\u001b[1;32m     28\u001b[0m     evaluator_rmse \u001b[38;5;241m=\u001b[39m RegressionEvaluator(metricName\u001b[38;5;241m=\u001b[39m\u001b[38;5;124m\"\u001b[39m\u001b[38;5;124mrmse\u001b[39m\u001b[38;5;124m\"\u001b[39m, labelCol\u001b[38;5;241m=\u001b[39m\u001b[38;5;124m\"\u001b[39m\u001b[38;5;124mBook-Rating\u001b[39m\u001b[38;5;124m\"\u001b[39m, predictionCol\u001b[38;5;241m=\u001b[39m\u001b[38;5;124m\"\u001b[39m\u001b[38;5;124mprediction\u001b[39m\u001b[38;5;124m\"\u001b[39m)\n",
      "File \u001b[0;32m/usr/local/lib/python3.9/site-packages/pyspark/ml/base.py:205\u001b[0m, in \u001b[0;36mEstimator.fit\u001b[0;34m(self, dataset, params)\u001b[0m\n\u001b[1;32m    203\u001b[0m         \u001b[38;5;28;01mreturn\u001b[39;00m \u001b[38;5;28mself\u001b[39m\u001b[38;5;241m.\u001b[39mcopy(params)\u001b[38;5;241m.\u001b[39m_fit(dataset)\n\u001b[1;32m    204\u001b[0m     \u001b[38;5;28;01melse\u001b[39;00m:\n\u001b[0;32m--> 205\u001b[0m         \u001b[38;5;28;01mreturn\u001b[39;00m \u001b[38;5;28;43mself\u001b[39;49m\u001b[38;5;241;43m.\u001b[39;49m\u001b[43m_fit\u001b[49m\u001b[43m(\u001b[49m\u001b[43mdataset\u001b[49m\u001b[43m)\u001b[49m\n\u001b[1;32m    206\u001b[0m \u001b[38;5;28;01melse\u001b[39;00m:\n\u001b[1;32m    207\u001b[0m     \u001b[38;5;28;01mraise\u001b[39;00m \u001b[38;5;167;01mTypeError\u001b[39;00m(\n\u001b[1;32m    208\u001b[0m         \u001b[38;5;124m\"\u001b[39m\u001b[38;5;124mParams must be either a param map or a list/tuple of param maps, \u001b[39m\u001b[38;5;124m\"\u001b[39m\n\u001b[1;32m    209\u001b[0m         \u001b[38;5;124m\"\u001b[39m\u001b[38;5;124mbut got \u001b[39m\u001b[38;5;132;01m%s\u001b[39;00m\u001b[38;5;124m.\u001b[39m\u001b[38;5;124m\"\u001b[39m \u001b[38;5;241m%\u001b[39m \u001b[38;5;28mtype\u001b[39m(params)\n\u001b[1;32m    210\u001b[0m     )\n",
      "File \u001b[0;32m/usr/local/lib/python3.9/site-packages/pyspark/ml/wrapper.py:381\u001b[0m, in \u001b[0;36mJavaEstimator._fit\u001b[0;34m(self, dataset)\u001b[0m\n\u001b[1;32m    380\u001b[0m \u001b[38;5;28;01mdef\u001b[39;00m\u001b[38;5;250m \u001b[39m\u001b[38;5;21m_fit\u001b[39m(\u001b[38;5;28mself\u001b[39m, dataset: DataFrame) \u001b[38;5;241m-\u001b[39m\u001b[38;5;241m>\u001b[39m JM:\n\u001b[0;32m--> 381\u001b[0m     java_model \u001b[38;5;241m=\u001b[39m \u001b[38;5;28;43mself\u001b[39;49m\u001b[38;5;241;43m.\u001b[39;49m\u001b[43m_fit_java\u001b[49m\u001b[43m(\u001b[49m\u001b[43mdataset\u001b[49m\u001b[43m)\u001b[49m\n\u001b[1;32m    382\u001b[0m     model \u001b[38;5;241m=\u001b[39m \u001b[38;5;28mself\u001b[39m\u001b[38;5;241m.\u001b[39m_create_model(java_model)\n\u001b[1;32m    383\u001b[0m     \u001b[38;5;28;01mreturn\u001b[39;00m \u001b[38;5;28mself\u001b[39m\u001b[38;5;241m.\u001b[39m_copyValues(model)\n",
      "File \u001b[0;32m/usr/local/lib/python3.9/site-packages/pyspark/ml/wrapper.py:378\u001b[0m, in \u001b[0;36mJavaEstimator._fit_java\u001b[0;34m(self, dataset)\u001b[0m\n\u001b[1;32m    375\u001b[0m \u001b[38;5;28;01massert\u001b[39;00m \u001b[38;5;28mself\u001b[39m\u001b[38;5;241m.\u001b[39m_java_obj \u001b[38;5;129;01mis\u001b[39;00m \u001b[38;5;129;01mnot\u001b[39;00m \u001b[38;5;28;01mNone\u001b[39;00m\n\u001b[1;32m    377\u001b[0m \u001b[38;5;28mself\u001b[39m\u001b[38;5;241m.\u001b[39m_transfer_params_to_java()\n\u001b[0;32m--> 378\u001b[0m \u001b[38;5;28;01mreturn\u001b[39;00m \u001b[38;5;28;43mself\u001b[39;49m\u001b[38;5;241;43m.\u001b[39;49m\u001b[43m_java_obj\u001b[49m\u001b[38;5;241;43m.\u001b[39;49m\u001b[43mfit\u001b[49m\u001b[43m(\u001b[49m\u001b[43mdataset\u001b[49m\u001b[38;5;241;43m.\u001b[39;49m\u001b[43m_jdf\u001b[49m\u001b[43m)\u001b[49m\n",
      "File \u001b[0;32m/usr/local/lib/python3.9/site-packages/pyspark/python/lib/py4j-0.10.9.7-src.zip/py4j/java_gateway.py:1322\u001b[0m, in \u001b[0;36mJavaMember.__call__\u001b[0;34m(self, *args)\u001b[0m\n\u001b[1;32m   1316\u001b[0m command \u001b[38;5;241m=\u001b[39m proto\u001b[38;5;241m.\u001b[39mCALL_COMMAND_NAME \u001b[38;5;241m+\u001b[39m\\\n\u001b[1;32m   1317\u001b[0m     \u001b[38;5;28mself\u001b[39m\u001b[38;5;241m.\u001b[39mcommand_header \u001b[38;5;241m+\u001b[39m\\\n\u001b[1;32m   1318\u001b[0m     args_command \u001b[38;5;241m+\u001b[39m\\\n\u001b[1;32m   1319\u001b[0m     proto\u001b[38;5;241m.\u001b[39mEND_COMMAND_PART\n\u001b[1;32m   1321\u001b[0m answer \u001b[38;5;241m=\u001b[39m \u001b[38;5;28mself\u001b[39m\u001b[38;5;241m.\u001b[39mgateway_client\u001b[38;5;241m.\u001b[39msend_command(command)\n\u001b[0;32m-> 1322\u001b[0m return_value \u001b[38;5;241m=\u001b[39m \u001b[43mget_return_value\u001b[49m\u001b[43m(\u001b[49m\n\u001b[1;32m   1323\u001b[0m \u001b[43m    \u001b[49m\u001b[43manswer\u001b[49m\u001b[43m,\u001b[49m\u001b[43m \u001b[49m\u001b[38;5;28;43mself\u001b[39;49m\u001b[38;5;241;43m.\u001b[39;49m\u001b[43mgateway_client\u001b[49m\u001b[43m,\u001b[49m\u001b[43m \u001b[49m\u001b[38;5;28;43mself\u001b[39;49m\u001b[38;5;241;43m.\u001b[39;49m\u001b[43mtarget_id\u001b[49m\u001b[43m,\u001b[49m\u001b[43m \u001b[49m\u001b[38;5;28;43mself\u001b[39;49m\u001b[38;5;241;43m.\u001b[39;49m\u001b[43mname\u001b[49m\u001b[43m)\u001b[49m\n\u001b[1;32m   1325\u001b[0m \u001b[38;5;28;01mfor\u001b[39;00m temp_arg \u001b[38;5;129;01min\u001b[39;00m temp_args:\n\u001b[1;32m   1326\u001b[0m     \u001b[38;5;28;01mif\u001b[39;00m \u001b[38;5;28mhasattr\u001b[39m(temp_arg, \u001b[38;5;124m\"\u001b[39m\u001b[38;5;124m_detach\u001b[39m\u001b[38;5;124m\"\u001b[39m):\n",
      "File \u001b[0;32m/usr/local/lib/python3.9/site-packages/pyspark/errors/exceptions/captured.py:179\u001b[0m, in \u001b[0;36mcapture_sql_exception.<locals>.deco\u001b[0;34m(*a, **kw)\u001b[0m\n\u001b[1;32m    177\u001b[0m \u001b[38;5;28;01mdef\u001b[39;00m\u001b[38;5;250m \u001b[39m\u001b[38;5;21mdeco\u001b[39m(\u001b[38;5;241m*\u001b[39ma: Any, \u001b[38;5;241m*\u001b[39m\u001b[38;5;241m*\u001b[39mkw: Any) \u001b[38;5;241m-\u001b[39m\u001b[38;5;241m>\u001b[39m Any:\n\u001b[1;32m    178\u001b[0m     \u001b[38;5;28;01mtry\u001b[39;00m:\n\u001b[0;32m--> 179\u001b[0m         \u001b[38;5;28;01mreturn\u001b[39;00m \u001b[43mf\u001b[49m\u001b[43m(\u001b[49m\u001b[38;5;241;43m*\u001b[39;49m\u001b[43ma\u001b[49m\u001b[43m,\u001b[49m\u001b[43m \u001b[49m\u001b[38;5;241;43m*\u001b[39;49m\u001b[38;5;241;43m*\u001b[39;49m\u001b[43mkw\u001b[49m\u001b[43m)\u001b[49m\n\u001b[1;32m    180\u001b[0m     \u001b[38;5;28;01mexcept\u001b[39;00m Py4JJavaError \u001b[38;5;28;01mas\u001b[39;00m e:\n\u001b[1;32m    181\u001b[0m         converted \u001b[38;5;241m=\u001b[39m convert_exception(e\u001b[38;5;241m.\u001b[39mjava_exception)\n",
      "File \u001b[0;32m/usr/local/lib/python3.9/site-packages/pyspark/python/lib/py4j-0.10.9.7-src.zip/py4j/protocol.py:326\u001b[0m, in \u001b[0;36mget_return_value\u001b[0;34m(answer, gateway_client, target_id, name)\u001b[0m\n\u001b[1;32m    324\u001b[0m value \u001b[38;5;241m=\u001b[39m OUTPUT_CONVERTER[\u001b[38;5;28mtype\u001b[39m](answer[\u001b[38;5;241m2\u001b[39m:], gateway_client)\n\u001b[1;32m    325\u001b[0m \u001b[38;5;28;01mif\u001b[39;00m answer[\u001b[38;5;241m1\u001b[39m] \u001b[38;5;241m==\u001b[39m REFERENCE_TYPE:\n\u001b[0;32m--> 326\u001b[0m     \u001b[38;5;28;01mraise\u001b[39;00m Py4JJavaError(\n\u001b[1;32m    327\u001b[0m         \u001b[38;5;124m\"\u001b[39m\u001b[38;5;124mAn error occurred while calling \u001b[39m\u001b[38;5;132;01m{0}\u001b[39;00m\u001b[38;5;132;01m{1}\u001b[39;00m\u001b[38;5;132;01m{2}\u001b[39;00m\u001b[38;5;124m.\u001b[39m\u001b[38;5;130;01m\\n\u001b[39;00m\u001b[38;5;124m\"\u001b[39m\u001b[38;5;241m.\u001b[39m\n\u001b[1;32m    328\u001b[0m         \u001b[38;5;28mformat\u001b[39m(target_id, \u001b[38;5;124m\"\u001b[39m\u001b[38;5;124m.\u001b[39m\u001b[38;5;124m\"\u001b[39m, name), value)\n\u001b[1;32m    329\u001b[0m \u001b[38;5;28;01melse\u001b[39;00m:\n\u001b[1;32m    330\u001b[0m     \u001b[38;5;28;01mraise\u001b[39;00m Py4JError(\n\u001b[1;32m    331\u001b[0m         \u001b[38;5;124m\"\u001b[39m\u001b[38;5;124mAn error occurred while calling \u001b[39m\u001b[38;5;132;01m{0}\u001b[39;00m\u001b[38;5;132;01m{1}\u001b[39;00m\u001b[38;5;132;01m{2}\u001b[39;00m\u001b[38;5;124m. Trace:\u001b[39m\u001b[38;5;130;01m\\n\u001b[39;00m\u001b[38;5;132;01m{3}\u001b[39;00m\u001b[38;5;130;01m\\n\u001b[39;00m\u001b[38;5;124m\"\u001b[39m\u001b[38;5;241m.\u001b[39m\n\u001b[1;32m    332\u001b[0m         \u001b[38;5;28mformat\u001b[39m(target_id, \u001b[38;5;124m\"\u001b[39m\u001b[38;5;124m.\u001b[39m\u001b[38;5;124m\"\u001b[39m, name, value))\n",
      "\u001b[0;31mPy4JJavaError\u001b[0m: An error occurred while calling o2566.fit.\n: org.apache.spark.SparkException: Job aborted due to stage failure: Task 2 in stage 5554.0 failed 1 times, most recent failure: Lost task 2.0 in stage 5554.0 (TID 10953) (cc8e4878de29 executor driver): java.io.IOException: No space left on device\n\tat java.base/java.io.FileOutputStream.writeBytes(Native Method)\n\tat java.base/java.io.FileOutputStream.write(FileOutputStream.java:354)\n\tat org.apache.spark.storage.TimeTrackingOutputStream.write(TimeTrackingOutputStream.java:59)\n\tat org.apache.spark.io.MutableCheckedOutputStream.write(MutableCheckedOutputStream.scala:43)\n\tat java.base/java.io.BufferedOutputStream.flushBuffer(BufferedOutputStream.java:81)\n\tat java.base/java.io.BufferedOutputStream.write(BufferedOutputStream.java:127)\n\tat net.jpountz.lz4.LZ4BlockOutputStream.flushBufferedData(LZ4BlockOutputStream.java:225)\n\tat net.jpountz.lz4.LZ4BlockOutputStream.write(LZ4BlockOutputStream.java:178)\n\tat java.base/java.io.ObjectOutputStream$BlockDataOutputStream.drain(ObjectOutputStream.java:1873)\n\tat java.base/java.io.ObjectOutputStream$BlockDataOutputStream.writeByte(ObjectOutputStream.java:1911)\n\tat java.base/java.io.ObjectOutputStream.writeFatalException(ObjectOutputStream.java:1572)\n\tat java.base/java.io.ObjectOutputStream.writeObject(ObjectOutputStream.java:348)\n\tat org.apache.spark.serializer.JavaSerializationStream.writeObject(JavaSerializer.scala:46)\n\tat org.apache.spark.serializer.SerializationStream.writeValue(Serializer.scala:134)\n\tat org.apache.spark.storage.DiskBlockObjectWriter.write(DiskBlockObjectWriter.scala:312)\n\tat org.apache.spark.shuffle.sort.BypassMergeSortShuffleWriter.write(BypassMergeSortShuffleWriter.java:171)\n\tat org.apache.spark.shuffle.ShuffleWriteProcessor.write(ShuffleWriteProcessor.scala:59)\n\tat org.apache.spark.scheduler.ShuffleMapTask.runTask(ShuffleMapTask.scala:104)\n\tat org.apache.spark.scheduler.ShuffleMapTask.runTask(ShuffleMapTask.scala:54)\n\tat org.apache.spark.TaskContext.runTaskWithListeners(TaskContext.scala:161)\n\tat org.apache.spark.scheduler.Task.run(Task.scala:141)\n\tat org.apache.spark.executor.Executor$TaskRunner.$anonfun$run$4(Executor.scala:620)\n\tat org.apache.spark.util.SparkErrorUtils.tryWithSafeFinally(SparkErrorUtils.scala:64)\n\tat org.apache.spark.util.SparkErrorUtils.tryWithSafeFinally$(SparkErrorUtils.scala:61)\n\tat org.apache.spark.util.Utils$.tryWithSafeFinally(Utils.scala:94)\n\tat org.apache.spark.executor.Executor$TaskRunner.run(Executor.scala:623)\n\tat java.base/java.util.concurrent.ThreadPoolExecutor.runWorker(ThreadPoolExecutor.java:1128)\n\tat java.base/java.util.concurrent.ThreadPoolExecutor$Worker.run(ThreadPoolExecutor.java:628)\n\tat java.base/java.lang.Thread.run(Thread.java:829)\n\nDriver stacktrace:\n\tat org.apache.spark.scheduler.DAGScheduler.failJobAndIndependentStages(DAGScheduler.scala:2844)\n\tat org.apache.spark.scheduler.DAGScheduler.$anonfun$abortStage$2(DAGScheduler.scala:2780)\n\tat org.apache.spark.scheduler.DAGScheduler.$anonfun$abortStage$2$adapted(DAGScheduler.scala:2779)\n\tat scala.collection.mutable.ResizableArray.foreach(ResizableArray.scala:62)\n\tat scala.collection.mutable.ResizableArray.foreach$(ResizableArray.scala:55)\n\tat scala.collection.mutable.ArrayBuffer.foreach(ArrayBuffer.scala:49)\n\tat org.apache.spark.scheduler.DAGScheduler.abortStage(DAGScheduler.scala:2779)\n\tat org.apache.spark.scheduler.DAGScheduler.$anonfun$handleTaskSetFailed$1(DAGScheduler.scala:1242)\n\tat org.apache.spark.scheduler.DAGScheduler.$anonfun$handleTaskSetFailed$1$adapted(DAGScheduler.scala:1242)\n\tat scala.Option.foreach(Option.scala:407)\n\tat org.apache.spark.scheduler.DAGScheduler.handleTaskSetFailed(DAGScheduler.scala:1242)\n\tat org.apache.spark.scheduler.DAGSchedulerEventProcessLoop.doOnReceive(DAGScheduler.scala:3048)\n\tat org.apache.spark.scheduler.DAGSchedulerEventProcessLoop.onReceive(DAGScheduler.scala:2982)\n\tat org.apache.spark.scheduler.DAGSchedulerEventProcessLoop.onReceive(DAGScheduler.scala:2971)\n\tat org.apache.spark.util.EventLoop$$anon$1.run(EventLoop.scala:49)\n\tat org.apache.spark.scheduler.DAGScheduler.runJob(DAGScheduler.scala:984)\n\tat org.apache.spark.SparkContext.runJob(SparkContext.scala:2398)\n\tat org.apache.spark.SparkContext.runJob(SparkContext.scala:2419)\n\tat org.apache.spark.SparkContext.runJob(SparkContext.scala:2438)\n\tat org.apache.spark.SparkContext.runJob(SparkContext.scala:2463)\n\tat org.apache.spark.rdd.RDD.count(RDD.scala:1293)\n\tat org.apache.spark.ml.recommendation.ALS$.train(ALS.scala:1090)\n\tat org.apache.spark.ml.recommendation.ALS.$anonfun$fit$1(ALS.scala:737)\n\tat org.apache.spark.ml.util.Instrumentation$.$anonfun$instrumented$1(Instrumentation.scala:191)\n\tat scala.util.Try$.apply(Try.scala:213)\n\tat org.apache.spark.ml.util.Instrumentation$.instrumented(Instrumentation.scala:191)\n\tat org.apache.spark.ml.recommendation.ALS.fit(ALS.scala:714)\n\tat org.apache.spark.ml.recommendation.ALS.fit(ALS.scala:616)\n\tat jdk.internal.reflect.GeneratedMethodAccessor1550.invoke(Unknown Source)\n\tat java.base/jdk.internal.reflect.DelegatingMethodAccessorImpl.invoke(DelegatingMethodAccessorImpl.java:43)\n\tat java.base/java.lang.reflect.Method.invoke(Method.java:566)\n\tat py4j.reflection.MethodInvoker.invoke(MethodInvoker.java:244)\n\tat py4j.reflection.ReflectionEngine.invoke(ReflectionEngine.java:374)\n\tat py4j.Gateway.invoke(Gateway.java:282)\n\tat py4j.commands.AbstractCommand.invokeMethod(AbstractCommand.java:132)\n\tat py4j.commands.CallCommand.execute(CallCommand.java:79)\n\tat py4j.ClientServerConnection.waitForCommands(ClientServerConnection.java:182)\n\tat py4j.ClientServerConnection.run(ClientServerConnection.java:106)\n\tat java.base/java.lang.Thread.run(Thread.java:829)\nCaused by: java.io.IOException: No space left on device\n\tat java.base/java.io.FileOutputStream.writeBytes(Native Method)\n\tat java.base/java.io.FileOutputStream.write(FileOutputStream.java:354)\n\tat org.apache.spark.storage.TimeTrackingOutputStream.write(TimeTrackingOutputStream.java:59)\n\tat org.apache.spark.io.MutableCheckedOutputStream.write(MutableCheckedOutputStream.scala:43)\n\tat java.base/java.io.BufferedOutputStream.flushBuffer(BufferedOutputStream.java:81)\n\tat java.base/java.io.BufferedOutputStream.write(BufferedOutputStream.java:127)\n\tat net.jpountz.lz4.LZ4BlockOutputStream.flushBufferedData(LZ4BlockOutputStream.java:225)\n\tat net.jpountz.lz4.LZ4BlockOutputStream.write(LZ4BlockOutputStream.java:178)\n\tat java.base/java.io.ObjectOutputStream$BlockDataOutputStream.drain(ObjectOutputStream.java:1873)\n\tat java.base/java.io.ObjectOutputStream$BlockDataOutputStream.writeByte(ObjectOutputStream.java:1911)\n\tat java.base/java.io.ObjectOutputStream.writeFatalException(ObjectOutputStream.java:1572)\n\tat java.base/java.io.ObjectOutputStream.writeObject(ObjectOutputStream.java:348)\n\tat org.apache.spark.serializer.JavaSerializationStream.writeObject(JavaSerializer.scala:46)\n\tat org.apache.spark.serializer.SerializationStream.writeValue(Serializer.scala:134)\n\tat org.apache.spark.storage.DiskBlockObjectWriter.write(DiskBlockObjectWriter.scala:312)\n\tat org.apache.spark.shuffle.sort.BypassMergeSortShuffleWriter.write(BypassMergeSortShuffleWriter.java:171)\n\tat org.apache.spark.shuffle.ShuffleWriteProcessor.write(ShuffleWriteProcessor.scala:59)\n\tat org.apache.spark.scheduler.ShuffleMapTask.runTask(ShuffleMapTask.scala:104)\n\tat org.apache.spark.scheduler.ShuffleMapTask.runTask(ShuffleMapTask.scala:54)\n\tat org.apache.spark.TaskContext.runTaskWithListeners(TaskContext.scala:161)\n\tat org.apache.spark.scheduler.Task.run(Task.scala:141)\n\tat org.apache.spark.executor.Executor$TaskRunner.$anonfun$run$4(Executor.scala:620)\n\tat org.apache.spark.util.SparkErrorUtils.tryWithSafeFinally(SparkErrorUtils.scala:64)\n\tat org.apache.spark.util.SparkErrorUtils.tryWithSafeFinally$(SparkErrorUtils.scala:61)\n\tat org.apache.spark.util.Utils$.tryWithSafeFinally(Utils.scala:94)\n\tat org.apache.spark.executor.Executor$TaskRunner.run(Executor.scala:623)\n\tat java.base/java.util.concurrent.ThreadPoolExecutor.runWorker(ThreadPoolExecutor.java:1128)\n\tat java.base/java.util.concurrent.ThreadPoolExecutor$Worker.run(ThreadPoolExecutor.java:628)\n\t... 1 more\n"
     ]
    }
   ],
   "source": [
    "from pyspark.ml.recommendation import ALS\n",
    "from pyspark.ml.evaluation import RegressionEvaluator\n",
    "from pyspark.ml.recommendation import ALS\n",
    "from pyspark.ml.evaluation import RegressionEvaluator\n",
    "import matplotlib.pyplot as plt\n",
    "import pandas as pd\n",
    "\n",
    "ranks = [10, 50, 200]\n",
    "iterations = [10, 12, 15]\n",
    "lambdas = [0.01, 0.1]\n",
    "results = []\n",
    "\n",
    "best_rmse = float(\"inf\")\n",
    "best_model = None\n",
    "best_params = None\n",
    "\n",
    "for rank in ranks:\n",
    "    for iteration in iterations:\n",
    "        for reg_param in lambdas:\n",
    "            als = ALS(maxIter=iteration, regParam=reg_param, rank=rank, seed=5071,\n",
    "                      userCol=\"User-ID\", itemCol=\"newISBN\", ratingCol=\"Book-Rating\",\n",
    "                      coldStartStrategy=\"drop\")\n",
    "\n",
    "            model = als.fit(train)\n",
    "\n",
    "            predictions = model.transform(test)\n",
    "            \n",
    "            evaluator_rmse = RegressionEvaluator(metricName=\"rmse\", labelCol=\"Book-Rating\", predictionCol=\"prediction\")\n",
    "            evaluator_mse = RegressionEvaluator(metricName=\"mse\", labelCol=\"Book-Rating\", predictionCol=\"prediction\")\n",
    "            rmse = evaluator_rmse.evaluate(predictions)\n",
    "            mse = evaluator_mse.evaluate(predictions)\n",
    "            \n",
    "            print(f\"Parameters: Rank={rank}, Iteration={iteration}, Lambda={reg_param}\")\n",
    "            print(f\"RMSE: {rmse}, MSE: {mse}\")\n",
    "            results.append({\"rank\": rank, \"iteration\": iteration, \"lambda\": reg_param, \"rmse\": rmse})\n",
    "\n",
    "            print(\"---------------------------------------------\")\n",
    "            \n",
    "            if rmse < best_rmse:\n",
    "                best_rmse = rmse\n",
    "                best_model = model\n",
    "                best_params = {\"rank\": rank, \"iteration\": iteration, \"lambda\": reg_param}\n",
    "\n",
    "print(\"Best Parameters:\", best_params)\n",
    "print(\"Best RMSE:\", best_rmse)\n",
    "\n",
    "\n",
    "\n"
   ]
  },
  {
   "cell_type": "code",
   "execution_count": null,
   "id": "b06cde3f-0d5a-4692-93ed-5b7461e2701a",
   "metadata": {},
   "outputs": [],
   "source": [
    "results_df = pd.DataFrame(results)\n",
    "plt.figure(figsize=(12, 8))\n",
    "plt.bar(results_df.index, results_df['rmse'], color='blue')\n",
    "plt.xlabel('Model Index')\n",
    "plt.ylabel('RMSE')\n",
    "plt.show()"
   ]
  },
  {
   "cell_type": "code",
   "execution_count": null,
   "id": "50316120-4aaf-4b06-926b-5ecc56d6b646",
   "metadata": {
    "tags": []
   },
   "outputs": [],
   "source": [
    "model=best_model"
   ]
  },
  {
   "cell_type": "code",
   "execution_count": null,
   "id": "3d989e70-51a3-497c-8474-75dc2fa77c39",
   "metadata": {
    "tags": []
   },
   "outputs": [],
   "source": [
    "from pyspark.sql.functions import lit\n",
    "\n",
    "\n",
    "comparison_df = predictions.select(\"newISBN\",\"Book-Rating\", \"prediction\")\n",
    "\n",
    "comparison_pd = comparison_df.toPandas()"
   ]
  },
  {
   "cell_type": "code",
   "execution_count": null,
   "id": "4dc1a408-6b2c-46b7-9017-1a29b5cdc531",
   "metadata": {
    "tags": []
   },
   "outputs": [],
   "source": [
    "comparison_pd.head(20)"
   ]
  },
  {
   "cell_type": "markdown",
   "id": "a48f8caf-3bfa-4a25-befc-8661516b4a62",
   "metadata": {},
   "source": [
    "## 4)Cosine Similarity"
   ]
  },
  {
   "cell_type": "code",
   "execution_count": null,
   "id": "54658f13-2f60-4b58-8eaf-a69b44e4cac6",
   "metadata": {
    "tags": []
   },
   "outputs": [],
   "source": [
    "import numpy as np\n",
    "from pyspark.sql.functions import col\n",
    "from pyspark.ml.feature import BucketedRandomProjectionLSH\n",
    "from pyspark.ml.linalg import Vectors\n",
    "from pyspark.sql.functions import udf\n",
    "from pyspark.sql.types import DoubleType\n",
    "\n",
    "def cosineSimilarity(item_id1, item_id2, a, b):\n",
    "    dot_product = np.dot(a, b)\n",
    "    norm_a = np.linalg.norm(a)\n",
    "    norm_b = np.linalg.norm(b)\n",
    "    cos_similarity = dot_product / (norm_a * norm_b)\n",
    "    return item_id1, item_id2, cos_similarity"
   ]
  },
  {
   "cell_type": "code",
   "execution_count": null,
   "id": "a68946ba-b262-481d-a6c8-35cb4bc761f7",
   "metadata": {
    "tags": []
   },
   "outputs": [],
   "source": [
    "item_id1 = 53\n",
    "item_id2 = 53"
   ]
  },
  {
   "cell_type": "code",
   "execution_count": null,
   "id": "943f8654-ad57-47fa-86aa-bbbe31473d9f",
   "metadata": {
    "tags": []
   },
   "outputs": [],
   "source": [
    "item_vector1 = model.itemFactors.filter(col(\"id\") == item_id1).select(\"features\").collect()[0][\"features\"]\n",
    "item_vector2 = model.itemFactors.filter(col(\"id\") == item_id2).select(\"features\").collect()[0][\"features\"]"
   ]
  },
  {
   "cell_type": "code",
   "execution_count": null,
   "id": "603aa2e6-0ab4-49f7-9c55-a5a31ce9b848",
   "metadata": {
    "tags": []
   },
   "outputs": [],
   "source": [
    "cosineSimilarity(item_id1,item_id2,item_vector1,item_vector2)"
   ]
  },
  {
   "cell_type": "markdown",
   "id": "d224011f-3d1c-45f8-820a-85103f8a047f",
   "metadata": {},
   "source": [
    "# 5)Recommend System"
   ]
  },
  {
   "cell_type": "code",
   "execution_count": null,
   "id": "00b9ca62-c706-4bc2-8233-bb6f63a98285",
   "metadata": {
    "tags": []
   },
   "outputs": [],
   "source": [
    "from pyspark.sql.functions import col\n",
    "\n",
    "def getUsersForBook(bookISBN, numUsers, Users):\n",
    "    bookUsers = model.recommendForAllItems(numUsers).filter(col(\"newISBN\") == bookISBN)\n",
    "    userDF = spark.createDataFrame(bookUsers.collect()[0].recommendations)\n",
    "    \n",
    "    userDF = userDF.join(Users, userDF[\"User-ID\"] == Users[\"User-ID\"], \"inner\") \\\n",
    "                           .select(userDF[\"User-ID\"], Users[\"Location\"], Users[\"Age\"], userDF[\"Rating\"])\n",
    "    \n",
    "    return userDF\n",
    "\n"
   ]
  },
  {
   "cell_type": "code",
   "execution_count": null,
   "id": "312b2b72-a676-4ec5-9402-11b362d814d4",
   "metadata": {
    "tags": []
   },
   "outputs": [],
   "source": [
    "topUsersForBook = getUsersForBook(146680, 10,users)\n",
    "topUsersForBook.show()"
   ]
  },
  {
   "cell_type": "code",
   "execution_count": null,
   "id": "a87bf08d-485b-4e10-8cfb-9cc7ea1c6ff0",
   "metadata": {},
   "outputs": [],
   "source": [
    "train.show(20)"
   ]
  },
  {
   "cell_type": "code",
   "execution_count": null,
   "id": "13d88d2f-c5c4-48c3-b8dc-0c828f322371",
   "metadata": {},
   "outputs": [],
   "source": []
  }
 ],
 "metadata": {
  "kernelspec": {
   "display_name": "Python 3 (ipykernel)",
   "language": "python",
   "name": "python3"
  },
  "language_info": {
   "codemirror_mode": {
    "name": "ipython",
    "version": 3
   },
   "file_extension": ".py",
   "mimetype": "text/x-python",
   "name": "python",
   "nbconvert_exporter": "python",
   "pygments_lexer": "ipython3",
   "version": "3.9.23"
  }
 },
 "nbformat": 4,
 "nbformat_minor": 5
}
